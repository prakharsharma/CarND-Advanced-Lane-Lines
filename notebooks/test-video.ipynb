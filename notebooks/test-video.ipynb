{
 "cells": [
  {
   "cell_type": "code",
   "execution_count": 1,
   "metadata": {
    "collapsed": true
   },
   "outputs": [],
   "source": [
    "import glob\n",
    "import numpy as np\n",
    "import cv2\n",
    "import matplotlib.pyplot as plt\n",
    "%matplotlib inline"
   ]
  },
  {
   "cell_type": "code",
   "execution_count": 2,
   "metadata": {
    "collapsed": true
   },
   "outputs": [],
   "source": [
    "from camera_calibration import CameraCalibrator\n",
    "calibrator = CameraCalibrator()\n",
    "calibrator.load()"
   ]
  },
  {
   "cell_type": "code",
   "execution_count": 3,
   "metadata": {
    "collapsed": true
   },
   "outputs": [],
   "source": [
    "from image import Image\n",
    "from image_processor import ImageProcessor\n",
    "import config\n",
    "processor = ImageProcessor(calibrator, config)"
   ]
  },
  {
   "cell_type": "code",
   "execution_count": 4,
   "metadata": {
    "collapsed": false
   },
   "outputs": [],
   "source": [
    "from video_processor import VideoProcessor\n",
    "vid_processor = VideoProcessor(processor, config)"
   ]
  },
  {
   "cell_type": "code",
   "execution_count": 5,
   "metadata": {
    "collapsed": true
   },
   "outputs": [],
   "source": [
    "# Import everything needed to edit/save/watch video clips\n",
    "from moviepy.editor import VideoFileClip\n",
    "from IPython.display import HTML\n",
    "\n",
    "# meters per pixel in y dimension\n",
    "ym_per_pix = 30/720.\n",
    "\n",
    "# meters per pixel in x dimension\n",
    "xm_per_pix = 3.7/700."
   ]
  },
  {
   "cell_type": "code",
   "execution_count": 6,
   "metadata": {
    "collapsed": true
   },
   "outputs": [],
   "source": [
    "def next_frame(vid_clip, vid_state):\n",
    "    t = vid_state.get('t', 0)\n",
    "    frame = vid_clip.get_frame(t)\n",
    "    vid_state['t'] = t + 1/float(vid_clip.fps)\n",
    "    return frame"
   ]
  },
  {
   "cell_type": "code",
   "execution_count": 7,
   "metadata": {
    "collapsed": true
   },
   "outputs": [],
   "source": [
    "fname = 'project_video.mp4'\n",
    "vid_clip = VideoFileClip(\"./{}\".format(fname), audio=False)"
   ]
  },
  {
   "cell_type": "code",
   "execution_count": 8,
   "metadata": {
    "collapsed": false
   },
   "outputs": [],
   "source": [
    "# vid_state = {}\n",
    "# frame = Image(img=next_frame(vid_clip, vid_state))\n",
    "# # plt.imshow(frame.value)\n",
    "# result = vid_processor.process(frame, False)\n",
    "# # plt.imshow(result)"
   ]
  },
  {
   "cell_type": "code",
   "execution_count": 9,
   "metadata": {
    "collapsed": false
   },
   "outputs": [
    {
     "name": "stdout",
     "output_type": "stream",
     "text": [
      "[MoviePy] >>>> Building video /tmp/project_video.mp4\n",
      "[MoviePy] Writing video /tmp/project_video.mp4\n"
     ]
    },
    {
     "name": "stderr",
     "output_type": "stream",
     "text": [
      "  0%|          | 5/1261 [00:00<02:10,  9.60it/s]"
     ]
    },
    {
     "name": "stdout",
     "output_type": "stream",
     "text": [
      "frame#5 big difference in X vals of left and right lane\n"
     ]
    },
    {
     "name": "stderr",
     "output_type": "stream",
     "text": [
      "  1%|          | 9/1261 [00:00<01:57, 10.69it/s]"
     ]
    },
    {
     "name": "stdout",
     "output_type": "stream",
     "text": [
      "frame#8 big difference in X vals of left and right lane\n",
      "frame#10 big difference in X vals of left and right lane\n"
     ]
    },
    {
     "name": "stderr",
     "output_type": "stream",
     "text": [
      "  1%|          | 13/1261 [00:01<01:49, 11.41it/s]"
     ]
    },
    {
     "name": "stdout",
     "output_type": "stream",
     "text": [
      "frame#12 big difference in X vals of left and right lane\n",
      "frame#14 big difference in X vals of left and right lane\n"
     ]
    },
    {
     "name": "stderr",
     "output_type": "stream",
     "text": [
      "  1%|▏         | 17/1261 [00:01<01:43, 12.07it/s]"
     ]
    },
    {
     "name": "stdout",
     "output_type": "stream",
     "text": [
      "frame#17 big difference in X vals of left and right lane\n",
      "frame#19 big difference in X vals of left and right lane\n"
     ]
    },
    {
     "name": "stderr",
     "output_type": "stream",
     "text": [
      "  2%|▏         | 21/1261 [00:01<01:39, 12.49it/s]"
     ]
    },
    {
     "name": "stdout",
     "output_type": "stream",
     "text": [
      "frame#21 big difference in X vals of left and right lane\n",
      "frame#22 big difference in X vals of left and right lane\n"
     ]
    },
    {
     "name": "stderr",
     "output_type": "stream",
     "text": [
      "  2%|▏         | 27/1261 [00:02<01:35, 12.98it/s]"
     ]
    },
    {
     "name": "stdout",
     "output_type": "stream",
     "text": [
      "frame#27 big difference in X vals of left and right lane\n"
     ]
    },
    {
     "name": "stderr",
     "output_type": "stream",
     "text": [
      "  2%|▏         | 31/1261 [00:02<01:34, 13.04it/s]"
     ]
    },
    {
     "name": "stdout",
     "output_type": "stream",
     "text": [
      "frame#31 big difference in X vals of left and right lane\n",
      "frame#32 big difference in X vals of left and right lane\n",
      "frame#33 big difference in X vals of left and right lane\n"
     ]
    },
    {
     "name": "stderr",
     "output_type": "stream",
     "text": [
      "  3%|▎         | 35/1261 [00:02<01:35, 12.79it/s]"
     ]
    },
    {
     "name": "stdout",
     "output_type": "stream",
     "text": [
      "frame#34 big difference in X vals of left and right lane\n",
      "frame#34 bad frame streak reached\n"
     ]
    },
    {
     "name": "stderr",
     "output_type": "stream",
     "text": [
      "  4%|▍         | 49/1261 [00:03<01:32, 13.09it/s]"
     ]
    },
    {
     "name": "stdout",
     "output_type": "stream",
     "text": [
      "frame#48 big difference in X vals of left and right lane\n",
      "frame#49 big difference in X vals of left and right lane\n",
      "frame#50 big difference in X vals of left and right lane\n"
     ]
    },
    {
     "name": "stderr",
     "output_type": "stream",
     "text": [
      "\r",
      "  4%|▍         | 51/1261 [00:04<01:32, 13.12it/s]"
     ]
    },
    {
     "name": "stdout",
     "output_type": "stream",
     "text": [
      "frame#51 big difference in X vals of left and right lane\n",
      "frame#51 bad frame streak reached\n",
      "frame#52 big difference in X vals of left and right lane\n",
      "frame#53 big difference in X vals of left and right lane\n"
     ]
    },
    {
     "name": "stderr",
     "output_type": "stream",
     "text": [
      "  4%|▍         | 55/1261 [00:04<01:34, 12.77it/s]"
     ]
    },
    {
     "name": "stdout",
     "output_type": "stream",
     "text": [
      "frame#54 big difference in X vals of left and right lane\n",
      "frame#55 big difference in X vals of left and right lane\n",
      "frame#55 bad frame streak reached\n"
     ]
    },
    {
     "name": "stderr",
     "output_type": "stream",
     "text": [
      "  6%|▌         | 75/1261 [00:05<01:32, 12.77it/s]"
     ]
    },
    {
     "name": "stdout",
     "output_type": "stream",
     "text": [
      "frame#75 big difference in X vals of left and right lane\n",
      "frame#76 big difference in X vals of left and right lane\n"
     ]
    },
    {
     "name": "stderr",
     "output_type": "stream",
     "text": [
      "  6%|▋         | 81/1261 [00:06<01:37, 12.05it/s]"
     ]
    },
    {
     "name": "stdout",
     "output_type": "stream",
     "text": [
      "frame#80 big difference in X vals of left and right lane\n"
     ]
    },
    {
     "name": "stderr",
     "output_type": "stream",
     "text": [
      "  7%|▋         | 85/1261 [00:06<01:36, 12.25it/s]"
     ]
    },
    {
     "name": "stdout",
     "output_type": "stream",
     "text": [
      "frame#84 big difference in X vals of left and right lane\n",
      "frame#86 big difference in X vals of left and right lane\n"
     ]
    },
    {
     "name": "stderr",
     "output_type": "stream",
     "text": [
      "\r",
      "  7%|▋         | 87/1261 [00:06<01:35, 12.35it/s]"
     ]
    },
    {
     "name": "stdout",
     "output_type": "stream",
     "text": [
      "frame#87 big difference in X vals of left and right lane\n",
      "frame#89 big difference in X vals of left and right lane\n"
     ]
    },
    {
     "name": "stderr",
     "output_type": "stream",
     "text": [
      "\r",
      "  7%|▋         | 89/1261 [00:07<01:49, 10.67it/s]"
     ]
    },
    {
     "name": "stdout",
     "output_type": "stream",
     "text": [
      "frame#90 big difference in X vals of left and right lane\n",
      "frame#91 big difference in X vals of left and right lane\n",
      "frame#92 big difference in X vals of left and right lane\n",
      "frame#92 bad frame streak reached\n"
     ]
    },
    {
     "name": "stderr",
     "output_type": "stream",
     "text": [
      "  8%|▊         | 103/1261 [00:08<01:35, 12.12it/s]"
     ]
    },
    {
     "name": "stdout",
     "output_type": "stream",
     "text": [
      "frame#103 big difference in X vals of left and right lane\n",
      "frame#104 big difference in X vals of left and right lane\n"
     ]
    },
    {
     "name": "stderr",
     "output_type": "stream",
     "text": [
      "  8%|▊         | 107/1261 [00:08<01:33, 12.34it/s]"
     ]
    },
    {
     "name": "stdout",
     "output_type": "stream",
     "text": [
      "frame#107 big difference in X vals of left and right lane\n"
     ]
    },
    {
     "name": "stderr",
     "output_type": "stream",
     "text": [
      "  9%|▉         | 111/1261 [00:09<01:31, 12.55it/s]"
     ]
    },
    {
     "name": "stdout",
     "output_type": "stream",
     "text": [
      "frame#111 big difference in X vals of left and right lane\n",
      "frame#112 big difference in X vals of left and right lane\n",
      "frame#113 big difference in X vals of left and right lane\n"
     ]
    },
    {
     "name": "stderr",
     "output_type": "stream",
     "text": [
      "  9%|▉         | 115/1261 [00:09<01:31, 12.51it/s]"
     ]
    },
    {
     "name": "stdout",
     "output_type": "stream",
     "text": [
      "frame#114 big difference in X vals of left and right lane\n",
      "frame#114 bad frame streak reached\n",
      "frame#115 big difference in X vals of left and right lane\n",
      "frame#116 big difference in X vals of left and right lane\n"
     ]
    },
    {
     "name": "stderr",
     "output_type": "stream",
     "text": [
      "\r",
      "  9%|▉         | 117/1261 [00:09<01:39, 11.47it/s]"
     ]
    },
    {
     "name": "stdout",
     "output_type": "stream",
     "text": [
      "frame#117 big difference in X vals of left and right lane\n",
      "frame#118 big difference in X vals of left and right lane\n",
      "frame#118 bad frame streak reached\n"
     ]
    },
    {
     "name": "stderr",
     "output_type": "stream",
     "text": [
      " 11%|█▏        | 145/1261 [00:11<01:26, 12.83it/s]"
     ]
    },
    {
     "name": "stdout",
     "output_type": "stream",
     "text": [
      "frame#144 big difference in X vals of left and right lane\n"
     ]
    },
    {
     "name": "stderr",
     "output_type": "stream",
     "text": [
      "\r",
      " 12%|█▏        | 147/1261 [00:12<01:27, 12.74it/s]"
     ]
    },
    {
     "name": "stdout",
     "output_type": "stream",
     "text": [
      "frame#147 big difference in X vals of left and right lane\n",
      "frame#149 big difference in X vals of left and right lane\n"
     ]
    },
    {
     "name": "stderr",
     "output_type": "stream",
     "text": [
      " 12%|█▏        | 151/1261 [00:12<01:28, 12.58it/s]"
     ]
    },
    {
     "name": "stdout",
     "output_type": "stream",
     "text": [
      "frame#150 big difference in X vals of left and right lane\n"
     ]
    },
    {
     "name": "stderr",
     "output_type": "stream",
     "text": [
      " 12%|█▏        | 157/1261 [00:12<01:25, 12.93it/s]"
     ]
    },
    {
     "name": "stdout",
     "output_type": "stream",
     "text": [
      "frame#156 big difference in X vals of left and right lane\n",
      "frame#157 big difference in X vals of left and right lane\n",
      "frame#158 big difference in X vals of left and right lane\n"
     ]
    },
    {
     "name": "stderr",
     "output_type": "stream",
     "text": [
      " 13%|█▎        | 161/1261 [00:13<01:24, 13.08it/s]"
     ]
    },
    {
     "name": "stdout",
     "output_type": "stream",
     "text": [
      "frame#160 big difference in X vals of left and right lane\n",
      "frame#161 big difference in X vals of left and right lane\n",
      "frame#162 big difference in X vals of left and right lane\n"
     ]
    },
    {
     "name": "stderr",
     "output_type": "stream",
     "text": [
      "\r",
      " 13%|█▎        | 163/1261 [00:13<01:24, 12.93it/s]"
     ]
    },
    {
     "name": "stdout",
     "output_type": "stream",
     "text": [
      "frame#163 big difference in X vals of left and right lane\n",
      "frame#163 bad frame streak reached\n",
      "frame#164 big difference in X vals of left and right lane\n",
      "frame#165 big difference in X vals of left and right lane\n"
     ]
    },
    {
     "name": "stderr",
     "output_type": "stream",
     "text": [
      " 13%|█▎        | 167/1261 [00:13<01:24, 12.98it/s]"
     ]
    },
    {
     "name": "stdout",
     "output_type": "stream",
     "text": [
      "frame#166 big difference in X vals of left and right lane\n",
      "frame#167 big difference in X vals of left and right lane\n",
      "frame#167 bad frame streak reached\n",
      "frame#168 big difference in X vals of left and right lane\n"
     ]
    },
    {
     "name": "stderr",
     "output_type": "stream",
     "text": [
      "\r",
      " 13%|█▎        | 169/1261 [00:13<01:23, 13.11it/s]"
     ]
    },
    {
     "name": "stdout",
     "output_type": "stream",
     "text": [
      "frame#169 big difference in X vals of left and right lane\n",
      "frame#170 big difference in X vals of left and right lane\n",
      "frame#171 big difference in X vals of left and right lane\n",
      "frame#171 bad frame streak reached\n"
     ]
    },
    {
     "name": "stderr",
     "output_type": "stream",
     "text": [
      " 15%|█▍        | 189/1261 [00:15<01:21, 13.21it/s]"
     ]
    },
    {
     "name": "stdout",
     "output_type": "stream",
     "text": [
      "frame#188 big difference in X vals of left and right lane\n",
      "frame#190 big difference in X vals of left and right lane\n"
     ]
    },
    {
     "name": "stderr",
     "output_type": "stream",
     "text": [
      " 15%|█▌        | 195/1261 [00:15<01:20, 13.30it/s]"
     ]
    },
    {
     "name": "stdout",
     "output_type": "stream",
     "text": [
      "frame#195 big difference in X vals of left and right lane\n"
     ]
    },
    {
     "name": "stderr",
     "output_type": "stream",
     "text": [
      " 16%|█▌        | 199/1261 [00:16<01:23, 12.76it/s]"
     ]
    },
    {
     "name": "stdout",
     "output_type": "stream",
     "text": [
      "frame#198 big difference in X vals of left and right lane\n",
      "frame#199 big difference in X vals of left and right lane\n",
      "frame#200 big difference in X vals of left and right lane\n"
     ]
    },
    {
     "name": "stderr",
     "output_type": "stream",
     "text": [
      "\r",
      " 16%|█▌        | 201/1261 [00:16<01:25, 12.43it/s]"
     ]
    },
    {
     "name": "stdout",
     "output_type": "stream",
     "text": [
      "frame#201 big difference in X vals of left and right lane\n",
      "frame#201 bad frame streak reached\n"
     ]
    },
    {
     "name": "stderr",
     "output_type": "stream",
     "text": [
      " 17%|█▋        | 213/1261 [00:17<01:22, 12.72it/s]"
     ]
    },
    {
     "name": "stdout",
     "output_type": "stream",
     "text": [
      "frame#213 big difference in X vals of left and right lane\n",
      "frame#214 big difference in X vals of left and right lane\n",
      "frame#215 big difference in X vals of left and right lane\n"
     ]
    },
    {
     "name": "stderr",
     "output_type": "stream",
     "text": [
      " 18%|█▊        | 221/1261 [00:17<01:21, 12.84it/s]"
     ]
    },
    {
     "name": "stdout",
     "output_type": "stream",
     "text": [
      "frame#220 big difference in X vals of left and right lane\n",
      "frame#221 big difference in X vals of left and right lane\n",
      "frame#222 big difference in X vals of left and right lane\n"
     ]
    },
    {
     "name": "stderr",
     "output_type": "stream",
     "text": [
      "\r",
      " 18%|█▊        | 223/1261 [00:18<01:19, 13.03it/s]"
     ]
    },
    {
     "name": "stdout",
     "output_type": "stream",
     "text": [
      "frame#223 big difference in X vals of left and right lane\n",
      "frame#223 bad frame streak reached\n",
      "frame#224 big difference in X vals of left and right lane\n",
      "frame#225 big difference in X vals of left and right lane\n"
     ]
    },
    {
     "name": "stderr",
     "output_type": "stream",
     "text": [
      " 18%|█▊        | 229/1261 [00:18<01:17, 13.32it/s]"
     ]
    },
    {
     "name": "stdout",
     "output_type": "stream",
     "text": [
      "frame#228 big difference in X vals of left and right lane\n"
     ]
    },
    {
     "name": "stderr",
     "output_type": "stream",
     "text": [
      " 19%|█▉        | 237/1261 [00:19<01:17, 13.29it/s]"
     ]
    },
    {
     "name": "stdout",
     "output_type": "stream",
     "text": [
      "frame#237 big difference in X vals of left and right lane\n",
      "frame#238 big difference in X vals of left and right lane\n",
      "frame#239 big difference in X vals of left and right lane\n"
     ]
    },
    {
     "name": "stderr",
     "output_type": "stream",
     "text": [
      " 19%|█▉        | 241/1261 [00:19<01:15, 13.47it/s]"
     ]
    },
    {
     "name": "stdout",
     "output_type": "stream",
     "text": [
      "frame#240 big difference in X vals of left and right lane\n",
      "frame#240 bad frame streak reached\n",
      "frame#241 big difference in X vals of left and right lane\n",
      "frame#242 big difference in X vals of left and right lane\n"
     ]
    },
    {
     "name": "stderr",
     "output_type": "stream",
     "text": [
      "\r",
      " 19%|█▉        | 243/1261 [00:19<01:16, 13.32it/s]"
     ]
    },
    {
     "name": "stdout",
     "output_type": "stream",
     "text": [
      "frame#243 big difference in X vals of left and right lane\n",
      "frame#244 big difference in X vals of left and right lane\n",
      "frame#244 bad frame streak reached\n"
     ]
    },
    {
     "name": "stderr",
     "output_type": "stream",
     "text": [
      " 21%|██        | 259/1261 [00:20<01:15, 13.22it/s]"
     ]
    },
    {
     "name": "stdout",
     "output_type": "stream",
     "text": [
      "frame#258 big difference in X vals of left and right lane\n",
      "frame#259 big difference in X vals of left and right lane\n"
     ]
    },
    {
     "name": "stderr",
     "output_type": "stream",
     "text": [
      " 21%|██        | 263/1261 [00:21<01:14, 13.44it/s]"
     ]
    },
    {
     "name": "stdout",
     "output_type": "stream",
     "text": [
      "frame#262 big difference in X vals of left and right lane\n"
     ]
    },
    {
     "name": "stderr",
     "output_type": "stream",
     "text": [
      " 21%|██▏       | 269/1261 [00:21<01:13, 13.51it/s]"
     ]
    },
    {
     "name": "stdout",
     "output_type": "stream",
     "text": [
      "frame#268 big difference in X vals of left and right lane\n",
      "frame#269 big difference in X vals of left and right lane\n"
     ]
    },
    {
     "name": "stderr",
     "output_type": "stream",
     "text": [
      "\r",
      " 21%|██▏       | 271/1261 [00:21<01:13, 13.54it/s]"
     ]
    },
    {
     "name": "stdout",
     "output_type": "stream",
     "text": [
      "frame#271 big difference in X vals of left and right lane\n",
      "frame#272 big difference in X vals of left and right lane\n",
      "frame#273 big difference in X vals of left and right lane\n"
     ]
    },
    {
     "name": "stderr",
     "output_type": "stream",
     "text": [
      " 22%|██▏       | 275/1261 [00:21<01:12, 13.63it/s]"
     ]
    },
    {
     "name": "stdout",
     "output_type": "stream",
     "text": [
      "frame#275 big difference in X vals of left and right lane\n"
     ]
    },
    {
     "name": "stderr",
     "output_type": "stream",
     "text": [
      " 22%|██▏       | 279/1261 [00:22<01:12, 13.48it/s]"
     ]
    },
    {
     "name": "stdout",
     "output_type": "stream",
     "text": [
      "frame#278 big difference in X vals of left and right lane\n"
     ]
    },
    {
     "name": "stderr",
     "output_type": "stream",
     "text": [
      " 22%|██▏       | 283/1261 [00:22<01:12, 13.48it/s]"
     ]
    },
    {
     "name": "stdout",
     "output_type": "stream",
     "text": [
      "frame#282 big difference in X vals of left and right lane\n",
      "frame#283 big difference in X vals of left and right lane\n"
     ]
    },
    {
     "name": "stderr",
     "output_type": "stream",
     "text": [
      " 23%|██▎       | 293/1261 [00:23<01:12, 13.41it/s]"
     ]
    },
    {
     "name": "stdout",
     "output_type": "stream",
     "text": [
      "frame#292 big difference in X vals of left and right lane\n"
     ]
    },
    {
     "name": "stderr",
     "output_type": "stream",
     "text": [
      "\r",
      " 23%|██▎       | 295/1261 [00:23<01:11, 13.49it/s]"
     ]
    },
    {
     "name": "stdout",
     "output_type": "stream",
     "text": [
      "frame#295 big difference in X vals of left and right lane\n",
      "frame#296 big difference in X vals of left and right lane\n"
     ]
    },
    {
     "name": "stderr",
     "output_type": "stream",
     "text": [
      " 24%|██▍       | 307/1261 [00:24<01:12, 13.24it/s]"
     ]
    },
    {
     "name": "stdout",
     "output_type": "stream",
     "text": [
      "frame#307 big difference in X vals of left and right lane\n"
     ]
    },
    {
     "name": "stderr",
     "output_type": "stream",
     "text": [
      " 29%|██▊       | 361/1261 [00:28<01:07, 13.25it/s]"
     ]
    },
    {
     "name": "stdout",
     "output_type": "stream",
     "text": [
      "frame#360 big difference in X vals of left and right lane\n"
     ]
    },
    {
     "name": "stderr",
     "output_type": "stream",
     "text": [
      " 30%|██▉       | 377/1261 [00:29<01:09, 12.78it/s]"
     ]
    },
    {
     "name": "stdout",
     "output_type": "stream",
     "text": [
      "frame#376 big difference in X vals of left and right lane\n"
     ]
    },
    {
     "name": "stderr",
     "output_type": "stream",
     "text": [
      " 35%|███▍      | 441/1261 [00:34<01:03, 13.01it/s]"
     ]
    },
    {
     "name": "stdout",
     "output_type": "stream",
     "text": [
      "frame#441 big difference in X vals of left and right lane\n"
     ]
    },
    {
     "name": "stderr",
     "output_type": "stream",
     "text": [
      " 37%|███▋      | 465/1261 [00:36<01:04, 12.26it/s]"
     ]
    },
    {
     "name": "stdout",
     "output_type": "stream",
     "text": [
      "frame#465 big difference in X vals of left and right lane\n"
     ]
    },
    {
     "name": "stderr",
     "output_type": "stream",
     "text": [
      " 39%|███▉      | 489/1261 [00:38<01:05, 11.80it/s]"
     ]
    },
    {
     "name": "stdout",
     "output_type": "stream",
     "text": [
      "frame#488 big difference in X vals of left and right lane\n"
     ]
    },
    {
     "name": "stderr",
     "output_type": "stream",
     "text": [
      " 40%|████      | 505/1261 [00:40<00:57, 13.06it/s]"
     ]
    },
    {
     "name": "stdout",
     "output_type": "stream",
     "text": [
      "frame#505 big difference in X vals of left and right lane\n"
     ]
    },
    {
     "name": "stderr",
     "output_type": "stream",
     "text": [
      " 41%|████      | 517/1261 [00:41<00:59, 12.47it/s]"
     ]
    },
    {
     "name": "stdout",
     "output_type": "stream",
     "text": [
      "frame#516 big difference in X vals of left and right lane\n"
     ]
    },
    {
     "name": "stderr",
     "output_type": "stream",
     "text": [
      " 41%|████▏     | 523/1261 [00:41<00:58, 12.58it/s]"
     ]
    },
    {
     "name": "stdout",
     "output_type": "stream",
     "text": [
      "frame#523 big difference in X vals of left and right lane\n"
     ]
    },
    {
     "name": "stderr",
     "output_type": "stream",
     "text": [
      " 43%|████▎     | 541/1261 [00:42<00:54, 13.22it/s]"
     ]
    },
    {
     "name": "stdout",
     "output_type": "stream",
     "text": [
      "frame#540 big difference in X vals of left and right lane\n",
      "frame#541 big difference in X vals of left and right lane\n"
     ]
    },
    {
     "name": "stderr",
     "output_type": "stream",
     "text": [
      " 43%|████▎     | 547/1261 [00:43<00:55, 12.98it/s]"
     ]
    },
    {
     "name": "stdout",
     "output_type": "stream",
     "text": [
      "frame#547 big difference in X vals of left and right lane\n"
     ]
    },
    {
     "name": "stderr",
     "output_type": "stream",
     "text": [
      " 45%|████▍     | 563/1261 [00:44<00:53, 13.09it/s]"
     ]
    },
    {
     "name": "stdout",
     "output_type": "stream",
     "text": [
      "frame#562 big difference in X vals of left and right lane\n",
      "frame#563 big difference in X vals of left and right lane\n"
     ]
    },
    {
     "name": "stderr",
     "output_type": "stream",
     "text": [
      " 45%|████▌     | 569/1261 [00:45<00:52, 13.08it/s]"
     ]
    },
    {
     "name": "stdout",
     "output_type": "stream",
     "text": [
      "frame#569 big difference in X vals of left and right lane\n",
      "frame#570 big difference in X vals of left and right lane\n",
      "frame#571 big difference in X vals of left and right lane\n"
     ]
    },
    {
     "name": "stderr",
     "output_type": "stream",
     "text": [
      " 48%|████▊     | 607/1261 [00:48<00:52, 12.53it/s]"
     ]
    },
    {
     "name": "stdout",
     "output_type": "stream",
     "text": [
      "frame#607 big difference in X vals of left and right lane\n",
      "frame#608 big difference in X vals of left and right lane\n",
      "frame#609 big difference in X vals of left and right lane\n"
     ]
    },
    {
     "name": "stderr",
     "output_type": "stream",
     "text": [
      " 48%|████▊     | 611/1261 [00:48<00:54, 11.84it/s]"
     ]
    },
    {
     "name": "stdout",
     "output_type": "stream",
     "text": [
      "frame#610 big difference in X vals of left and right lane\n",
      "frame#610 bad frame streak reached\n"
     ]
    },
    {
     "name": "stderr",
     "output_type": "stream",
     "text": [
      " 49%|████▉     | 619/1261 [00:49<00:53, 11.98it/s]"
     ]
    },
    {
     "name": "stdout",
     "output_type": "stream",
     "text": [
      "frame#618 big difference in X vals of left and right lane\n",
      "frame#619 big difference in X vals of left and right lane\n"
     ]
    },
    {
     "name": "stderr",
     "output_type": "stream",
     "text": [
      " 49%|████▉     | 623/1261 [00:49<01:00, 10.53it/s]"
     ]
    },
    {
     "name": "stdout",
     "output_type": "stream",
     "text": [
      "frame#623 big difference in X vals of left and right lane\n",
      "frame#624 big difference in X vals of left and right lane\n",
      "frame#625 big difference in X vals of left and right lane\n"
     ]
    },
    {
     "name": "stderr",
     "output_type": "stream",
     "text": [
      " 50%|████▉     | 627/1261 [00:49<00:55, 11.35it/s]"
     ]
    },
    {
     "name": "stdout",
     "output_type": "stream",
     "text": [
      "frame#626 big difference in X vals of left and right lane\n",
      "frame#626 bad frame streak reached\n",
      "frame#627 big difference in X vals of left and right lane\n",
      "frame#628 big difference in X vals of left and right lane\n"
     ]
    },
    {
     "name": "stderr",
     "output_type": "stream",
     "text": [
      "\r",
      " 50%|████▉     | 629/1261 [00:50<00:54, 11.57it/s]"
     ]
    },
    {
     "name": "stdout",
     "output_type": "stream",
     "text": [
      "frame#629 big difference in X vals of left and right lane\n",
      "frame#630 big difference in X vals of left and right lane\n",
      "frame#630 bad frame streak reached\n",
      "frame#631 big difference in X vals of left and right lane\n"
     ]
    },
    {
     "name": "stderr",
     "output_type": "stream",
     "text": [
      " 50%|█████     | 633/1261 [00:50<00:52, 12.01it/s]"
     ]
    },
    {
     "name": "stdout",
     "output_type": "stream",
     "text": [
      "frame#632 big difference in X vals of left and right lane\n"
     ]
    },
    {
     "name": "stderr",
     "output_type": "stream",
     "text": [
      "\r",
      " 50%|█████     | 635/1261 [00:50<00:51, 12.17it/s]"
     ]
    },
    {
     "name": "stdout",
     "output_type": "stream",
     "text": [
      "frame#635 big difference in X vals of left and right lane\n"
     ]
    },
    {
     "name": "stderr",
     "output_type": "stream",
     "text": [
      " 58%|█████▊    | 733/1261 [00:58<00:39, 13.42it/s]"
     ]
    },
    {
     "name": "stdout",
     "output_type": "stream",
     "text": [
      "frame#732 big difference in X vals of left and right lane\n"
     ]
    },
    {
     "name": "stderr",
     "output_type": "stream",
     "text": [
      " 59%|█████▉    | 745/1261 [00:58<00:38, 13.26it/s]"
     ]
    },
    {
     "name": "stdout",
     "output_type": "stream",
     "text": [
      "frame#744 big difference in X vals of left and right lane\n"
     ]
    },
    {
     "name": "stderr",
     "output_type": "stream",
     "text": [
      " 59%|█████▉    | 749/1261 [00:59<00:38, 13.35it/s]"
     ]
    },
    {
     "name": "stdout",
     "output_type": "stream",
     "text": [
      "frame#748 big difference in X vals of left and right lane\n",
      "frame#749 big difference in X vals of left and right lane\n",
      "frame#750 big difference in X vals of left and right lane\n"
     ]
    },
    {
     "name": "stderr",
     "output_type": "stream",
     "text": [
      "\r",
      " 60%|█████▉    | 751/1261 [00:59<00:38, 13.30it/s]"
     ]
    },
    {
     "name": "stdout",
     "output_type": "stream",
     "text": [
      "frame#751 big difference in X vals of left and right lane\n",
      "frame#751 bad frame streak reached\n",
      "frame#752 big difference in X vals of left and right lane\n",
      "frame#753 big difference in X vals of left and right lane\n"
     ]
    },
    {
     "name": "stderr",
     "output_type": "stream",
     "text": [
      " 60%|█████▉    | 755/1261 [00:59<00:38, 13.21it/s]"
     ]
    },
    {
     "name": "stdout",
     "output_type": "stream",
     "text": [
      "frame#754 big difference in X vals of left and right lane\n",
      "frame#755 big difference in X vals of left and right lane\n",
      "frame#755 bad frame streak reached\n",
      "frame#756 big difference in X vals of left and right lane\n"
     ]
    },
    {
     "name": "stderr",
     "output_type": "stream",
     "text": [
      "\r",
      " 60%|██████    | 757/1261 [00:59<00:37, 13.32it/s]"
     ]
    },
    {
     "name": "stdout",
     "output_type": "stream",
     "text": [
      "frame#757 big difference in X vals of left and right lane\n",
      "frame#758 big difference in X vals of left and right lane\n",
      "frame#759 big difference in X vals of left and right lane\n",
      "frame#759 bad frame streak reached\n"
     ]
    },
    {
     "name": "stderr",
     "output_type": "stream",
     "text": [
      " 60%|██████    | 761/1261 [01:00<00:37, 13.25it/s]"
     ]
    },
    {
     "name": "stdout",
     "output_type": "stream",
     "text": [
      "frame#760 big difference in X vals of left and right lane\n",
      "frame#761 big difference in X vals of left and right lane\n",
      "frame#762 big difference in X vals of left and right lane\n"
     ]
    },
    {
     "name": "stderr",
     "output_type": "stream",
     "text": [
      "\r",
      " 61%|██████    | 763/1261 [01:00<00:37, 13.18it/s]"
     ]
    },
    {
     "name": "stdout",
     "output_type": "stream",
     "text": [
      "frame#763 big difference in X vals of left and right lane\n",
      "frame#763 bad frame streak reached\n",
      "frame#764 big difference in X vals of left and right lane\n",
      "frame#765 big difference in X vals of left and right lane\n"
     ]
    },
    {
     "name": "stderr",
     "output_type": "stream",
     "text": [
      " 61%|██████    | 767/1261 [01:00<00:37, 13.07it/s]"
     ]
    },
    {
     "name": "stdout",
     "output_type": "stream",
     "text": [
      "frame#766 big difference in X vals of left and right lane\n",
      "frame#767 big difference in X vals of left and right lane\n",
      "frame#767 bad frame streak reached\n",
      "frame#768 big difference in X vals of left and right lane\n"
     ]
    },
    {
     "name": "stderr",
     "output_type": "stream",
     "text": [
      "\r",
      " 61%|██████    | 769/1261 [01:00<00:37, 13.05it/s]"
     ]
    },
    {
     "name": "stdout",
     "output_type": "stream",
     "text": [
      "frame#769 big difference in X vals of left and right lane\n",
      "frame#770 big difference in X vals of left and right lane\n",
      "frame#771 big difference in X vals of left and right lane\n",
      "frame#771 bad frame streak reached\n"
     ]
    },
    {
     "name": "stderr",
     "output_type": "stream",
     "text": [
      "\r",
      " 61%|██████    | 771/1261 [01:00<00:43, 11.38it/s]"
     ]
    },
    {
     "name": "stdout",
     "output_type": "stream",
     "text": [
      "frame#772 big difference in X vals of left and right lane\n",
      "frame#773 big difference in X vals of left and right lane\n"
     ]
    },
    {
     "name": "stderr",
     "output_type": "stream",
     "text": [
      " 61%|██████▏   | 775/1261 [01:01<00:42, 11.38it/s]"
     ]
    },
    {
     "name": "stdout",
     "output_type": "stream",
     "text": [
      "frame#774 big difference in X vals of left and right lane\n",
      "frame#775 big difference in X vals of left and right lane\n",
      "frame#775 bad frame streak reached\n",
      "frame#776 big difference in X vals of left and right lane\n"
     ]
    },
    {
     "name": "stderr",
     "output_type": "stream",
     "text": [
      "\r",
      " 62%|██████▏   | 777/1261 [01:01<00:40, 11.92it/s]"
     ]
    },
    {
     "name": "stdout",
     "output_type": "stream",
     "text": [
      "frame#777 big difference in X vals of left and right lane\n",
      "frame#778 big difference in X vals of left and right lane\n",
      "frame#779 big difference in X vals of left and right lane\n",
      "frame#779 bad frame streak reached\n"
     ]
    },
    {
     "name": "stderr",
     "output_type": "stream",
     "text": [
      " 62%|██████▏   | 781/1261 [01:01<00:39, 12.24it/s]"
     ]
    },
    {
     "name": "stdout",
     "output_type": "stream",
     "text": [
      "frame#780 big difference in X vals of left and right lane\n",
      "frame#781 big difference in X vals of left and right lane\n",
      "frame#782 big difference in X vals of left and right lane\n"
     ]
    },
    {
     "name": "stderr",
     "output_type": "stream",
     "text": [
      "\r",
      " 62%|██████▏   | 783/1261 [01:01<00:38, 12.42it/s]"
     ]
    },
    {
     "name": "stdout",
     "output_type": "stream",
     "text": [
      "frame#783 big difference in X vals of left and right lane\n",
      "frame#783 bad frame streak reached\n",
      "frame#784 big difference in X vals of left and right lane\n",
      "frame#785 big difference in X vals of left and right lane\n"
     ]
    },
    {
     "name": "stderr",
     "output_type": "stream",
     "text": [
      " 62%|██████▏   | 787/1261 [01:02<00:37, 12.76it/s]"
     ]
    },
    {
     "name": "stdout",
     "output_type": "stream",
     "text": [
      "frame#786 big difference in X vals of left and right lane\n",
      "frame#787 big difference in X vals of left and right lane\n",
      "frame#787 bad frame streak reached\n",
      "frame#788 big difference in X vals of left and right lane\n"
     ]
    },
    {
     "name": "stderr",
     "output_type": "stream",
     "text": [
      "\r",
      " 63%|██████▎   | 789/1261 [01:02<00:36, 12.94it/s]"
     ]
    },
    {
     "name": "stdout",
     "output_type": "stream",
     "text": [
      "frame#789 big difference in X vals of left and right lane\n",
      "frame#790 big difference in X vals of left and right lane\n",
      "frame#791 big difference in X vals of left and right lane\n",
      "frame#791 bad frame streak reached\n"
     ]
    },
    {
     "name": "stderr",
     "output_type": "stream",
     "text": [
      " 63%|██████▎   | 793/1261 [01:02<00:36, 12.95it/s]"
     ]
    },
    {
     "name": "stdout",
     "output_type": "stream",
     "text": [
      "frame#792 big difference in X vals of left and right lane\n",
      "frame#793 big difference in X vals of left and right lane\n",
      "frame#794 big difference in X vals of left and right lane\n"
     ]
    },
    {
     "name": "stderr",
     "output_type": "stream",
     "text": [
      "\r",
      " 63%|██████▎   | 795/1261 [01:02<00:35, 12.96it/s]"
     ]
    },
    {
     "name": "stdout",
     "output_type": "stream",
     "text": [
      "frame#795 big difference in X vals of left and right lane\n",
      "frame#795 bad frame streak reached\n",
      "frame#796 big difference in X vals of left and right lane\n",
      "frame#797 big difference in X vals of left and right lane\n"
     ]
    },
    {
     "name": "stderr",
     "output_type": "stream",
     "text": [
      " 63%|██████▎   | 799/1261 [01:03<00:35, 12.83it/s]"
     ]
    },
    {
     "name": "stdout",
     "output_type": "stream",
     "text": [
      "frame#798 big difference in X vals of left and right lane\n",
      "frame#799 big difference in X vals of left and right lane\n",
      "frame#799 bad frame streak reached\n",
      "frame#800 big difference in X vals of left and right lane\n"
     ]
    },
    {
     "name": "stderr",
     "output_type": "stream",
     "text": [
      "\r",
      " 64%|██████▎   | 801/1261 [01:03<00:35, 12.92it/s]"
     ]
    },
    {
     "name": "stdout",
     "output_type": "stream",
     "text": [
      "frame#801 big difference in X vals of left and right lane\n",
      "frame#802 big difference in X vals of left and right lane\n",
      "frame#803 big difference in X vals of left and right lane\n",
      "frame#803 bad frame streak reached\n"
     ]
    },
    {
     "name": "stderr",
     "output_type": "stream",
     "text": [
      " 64%|██████▍   | 805/1261 [01:03<00:35, 12.99it/s]"
     ]
    },
    {
     "name": "stdout",
     "output_type": "stream",
     "text": [
      "frame#804 big difference in X vals of left and right lane\n",
      "frame#805 big difference in X vals of left and right lane\n",
      "frame#806 big difference in X vals of left and right lane\n"
     ]
    },
    {
     "name": "stderr",
     "output_type": "stream",
     "text": [
      "\r",
      " 64%|██████▍   | 807/1261 [01:03<00:35, 12.71it/s]"
     ]
    },
    {
     "name": "stdout",
     "output_type": "stream",
     "text": [
      "frame#807 big difference in X vals of left and right lane\n",
      "frame#807 bad frame streak reached\n",
      "frame#808 big difference in X vals of left and right lane\n",
      "frame#809 big difference in X vals of left and right lane\n"
     ]
    },
    {
     "name": "stderr",
     "output_type": "stream",
     "text": [
      " 64%|██████▍   | 811/1261 [01:04<00:36, 12.29it/s]"
     ]
    },
    {
     "name": "stdout",
     "output_type": "stream",
     "text": [
      "frame#810 big difference in X vals of left and right lane\n",
      "frame#811 big difference in X vals of left and right lane\n",
      "frame#811 bad frame streak reached\n",
      "frame#812 big difference in X vals of left and right lane\n"
     ]
    },
    {
     "name": "stderr",
     "output_type": "stream",
     "text": [
      "\r",
      " 64%|██████▍   | 813/1261 [01:04<00:35, 12.48it/s]"
     ]
    },
    {
     "name": "stdout",
     "output_type": "stream",
     "text": [
      "frame#813 big difference in X vals of left and right lane\n",
      "frame#814 big difference in X vals of left and right lane\n",
      "frame#815 big difference in X vals of left and right lane\n",
      "frame#815 bad frame streak reached\n"
     ]
    },
    {
     "name": "stderr",
     "output_type": "stream",
     "text": [
      " 65%|██████▍   | 817/1261 [01:04<00:35, 12.51it/s]"
     ]
    },
    {
     "name": "stdout",
     "output_type": "stream",
     "text": [
      "frame#816 big difference in X vals of left and right lane\n",
      "frame#817 big difference in X vals of left and right lane\n",
      "frame#818 big difference in X vals of left and right lane\n"
     ]
    },
    {
     "name": "stderr",
     "output_type": "stream",
     "text": [
      "\r",
      " 65%|██████▍   | 819/1261 [01:04<00:35, 12.46it/s]"
     ]
    },
    {
     "name": "stdout",
     "output_type": "stream",
     "text": [
      "frame#819 big difference in X vals of left and right lane\n",
      "frame#819 bad frame streak reached\n",
      "frame#820 big difference in X vals of left and right lane\n",
      "frame#821 big difference in X vals of left and right lane\n"
     ]
    },
    {
     "name": "stderr",
     "output_type": "stream",
     "text": [
      " 65%|██████▌   | 823/1261 [01:05<00:34, 12.62it/s]"
     ]
    },
    {
     "name": "stdout",
     "output_type": "stream",
     "text": [
      "frame#822 big difference in X vals of left and right lane\n",
      "frame#823 big difference in X vals of left and right lane\n",
      "frame#823 bad frame streak reached\n",
      "frame#824 big difference in X vals of left and right lane\n"
     ]
    },
    {
     "name": "stderr",
     "output_type": "stream",
     "text": [
      "\r",
      " 65%|██████▌   | 825/1261 [01:05<00:34, 12.72it/s]"
     ]
    },
    {
     "name": "stdout",
     "output_type": "stream",
     "text": [
      "frame#825 big difference in X vals of left and right lane\n",
      "frame#826 big difference in X vals of left and right lane\n",
      "frame#827 big difference in X vals of left and right lane\n",
      "frame#827 bad frame streak reached\n"
     ]
    },
    {
     "name": "stderr",
     "output_type": "stream",
     "text": [
      " 66%|██████▌   | 829/1261 [01:05<00:33, 12.88it/s]"
     ]
    },
    {
     "name": "stdout",
     "output_type": "stream",
     "text": [
      "frame#828 big difference in X vals of left and right lane\n",
      "frame#829 big difference in X vals of left and right lane\n",
      "frame#830 big difference in X vals of left and right lane\n"
     ]
    },
    {
     "name": "stderr",
     "output_type": "stream",
     "text": [
      "\r",
      " 66%|██████▌   | 831/1261 [01:05<00:35, 12.15it/s]"
     ]
    },
    {
     "name": "stdout",
     "output_type": "stream",
     "text": [
      "frame#831 big difference in X vals of left and right lane\n",
      "frame#831 bad frame streak reached\n",
      "frame#832 big difference in X vals of left and right lane\n",
      "frame#833 big difference in X vals of left and right lane\n"
     ]
    },
    {
     "name": "stderr",
     "output_type": "stream",
     "text": [
      " 66%|██████▌   | 835/1261 [01:06<00:34, 12.32it/s]"
     ]
    },
    {
     "name": "stdout",
     "output_type": "stream",
     "text": [
      "frame#834 big difference in X vals of left and right lane\n",
      "frame#835 big difference in X vals of left and right lane\n",
      "frame#835 bad frame streak reached\n",
      "frame#836 big difference in X vals of left and right lane\n"
     ]
    },
    {
     "name": "stderr",
     "output_type": "stream",
     "text": [
      "\r",
      " 66%|██████▋   | 837/1261 [01:06<00:34, 12.26it/s]"
     ]
    },
    {
     "name": "stdout",
     "output_type": "stream",
     "text": [
      "frame#837 big difference in X vals of left and right lane\n",
      "frame#838 big difference in X vals of left and right lane\n",
      "frame#839 big difference in X vals of left and right lane\n",
      "frame#839 bad frame streak reached\n"
     ]
    },
    {
     "name": "stderr",
     "output_type": "stream",
     "text": [
      " 67%|██████▋   | 841/1261 [01:06<00:36, 11.60it/s]"
     ]
    },
    {
     "name": "stdout",
     "output_type": "stream",
     "text": [
      "frame#840 big difference in X vals of left and right lane\n",
      "frame#841 big difference in X vals of left and right lane\n",
      "frame#842 big difference in X vals of left and right lane\n"
     ]
    },
    {
     "name": "stderr",
     "output_type": "stream",
     "text": [
      "\r",
      " 67%|██████▋   | 843/1261 [01:06<00:36, 11.55it/s]"
     ]
    },
    {
     "name": "stdout",
     "output_type": "stream",
     "text": [
      "frame#843 big difference in X vals of left and right lane\n",
      "frame#843 bad frame streak reached\n",
      "frame#844 big difference in X vals of left and right lane\n",
      "frame#845 big difference in X vals of left and right lane\n"
     ]
    },
    {
     "name": "stderr",
     "output_type": "stream",
     "text": [
      " 67%|██████▋   | 847/1261 [01:07<00:34, 11.90it/s]"
     ]
    },
    {
     "name": "stdout",
     "output_type": "stream",
     "text": [
      "frame#846 big difference in X vals of left and right lane\n",
      "frame#847 big difference in X vals of left and right lane\n",
      "frame#847 bad frame streak reached\n",
      "frame#848 big difference in X vals of left and right lane\n"
     ]
    },
    {
     "name": "stderr",
     "output_type": "stream",
     "text": [
      "\r",
      " 67%|██████▋   | 849/1261 [01:07<00:33, 12.18it/s]"
     ]
    },
    {
     "name": "stdout",
     "output_type": "stream",
     "text": [
      "frame#849 big difference in X vals of left and right lane\n",
      "frame#850 big difference in X vals of left and right lane\n",
      "frame#851 big difference in X vals of left and right lane\n",
      "frame#851 bad frame streak reached\n"
     ]
    },
    {
     "name": "stderr",
     "output_type": "stream",
     "text": [
      "\r",
      " 67%|██████▋   | 851/1261 [01:07<00:34, 11.96it/s]"
     ]
    },
    {
     "name": "stdout",
     "output_type": "stream",
     "text": [
      "frame#852 big difference in X vals of left and right lane\n",
      "frame#853 big difference in X vals of left and right lane\n"
     ]
    },
    {
     "name": "stderr",
     "output_type": "stream",
     "text": [
      "\r",
      " 68%|██████▊   | 853/1261 [01:07<00:39, 10.26it/s]"
     ]
    },
    {
     "name": "stdout",
     "output_type": "stream",
     "text": [
      "frame#854 big difference in X vals of left and right lane\n",
      "frame#855 big difference in X vals of left and right lane\n",
      "frame#855 bad frame streak reached\n",
      "frame#856 big difference in X vals of left and right lane\n"
     ]
    },
    {
     "name": "stderr",
     "output_type": "stream",
     "text": [
      " 68%|██████▊   | 857/1261 [01:08<00:40, 10.00it/s]"
     ]
    },
    {
     "name": "stdout",
     "output_type": "stream",
     "text": [
      "frame#857 big difference in X vals of left and right lane\n",
      "frame#858 big difference in X vals of left and right lane\n",
      "frame#859 big difference in X vals of left and right lane\n",
      "frame#859 bad frame streak reached\n"
     ]
    },
    {
     "name": "stderr",
     "output_type": "stream",
     "text": [
      " 68%|██████▊   | 861/1261 [01:08<00:36, 11.06it/s]"
     ]
    },
    {
     "name": "stdout",
     "output_type": "stream",
     "text": [
      "frame#860 big difference in X vals of left and right lane\n",
      "frame#861 big difference in X vals of left and right lane\n",
      "frame#862 big difference in X vals of left and right lane\n"
     ]
    },
    {
     "name": "stderr",
     "output_type": "stream",
     "text": [
      "\r",
      " 68%|██████▊   | 863/1261 [01:08<00:34, 11.49it/s]"
     ]
    },
    {
     "name": "stdout",
     "output_type": "stream",
     "text": [
      "frame#863 big difference in X vals of left and right lane\n",
      "frame#863 bad frame streak reached\n",
      "frame#864 big difference in X vals of left and right lane\n",
      "frame#865 big difference in X vals of left and right lane\n"
     ]
    },
    {
     "name": "stderr",
     "output_type": "stream",
     "text": [
      " 69%|██████▉   | 867/1261 [01:08<00:33, 11.69it/s]"
     ]
    },
    {
     "name": "stdout",
     "output_type": "stream",
     "text": [
      "frame#866 big difference in X vals of left and right lane\n",
      "frame#867 big difference in X vals of left and right lane\n",
      "frame#867 bad frame streak reached\n",
      "frame#868 big difference in X vals of left and right lane\n"
     ]
    },
    {
     "name": "stderr",
     "output_type": "stream",
     "text": [
      "\r",
      " 69%|██████▉   | 869/1261 [01:09<00:33, 11.78it/s]"
     ]
    },
    {
     "name": "stdout",
     "output_type": "stream",
     "text": [
      "frame#869 big difference in X vals of left and right lane\n",
      "frame#870 big difference in X vals of left and right lane\n",
      "frame#871 big difference in X vals of left and right lane\n",
      "frame#871 bad frame streak reached\n"
     ]
    },
    {
     "name": "stderr",
     "output_type": "stream",
     "text": [
      "\r",
      " 69%|██████▉   | 871/1261 [01:09<00:35, 10.91it/s]"
     ]
    },
    {
     "name": "stdout",
     "output_type": "stream",
     "text": [
      "frame#872 big difference in X vals of left and right lane\n",
      "frame#873 big difference in X vals of left and right lane\n"
     ]
    },
    {
     "name": "stderr",
     "output_type": "stream",
     "text": [
      "\r",
      " 69%|██████▉   | 873/1261 [01:09<00:40,  9.62it/s]"
     ]
    },
    {
     "name": "stdout",
     "output_type": "stream",
     "text": [
      "frame#874 big difference in X vals of left and right lane\n",
      "frame#875 big difference in X vals of left and right lane\n",
      "frame#875 bad frame streak reached\n",
      "frame#876 big difference in X vals of left and right lane\n"
     ]
    },
    {
     "name": "stderr",
     "output_type": "stream",
     "text": [
      " 70%|██████▉   | 877/1261 [01:09<00:36, 10.57it/s]"
     ]
    },
    {
     "name": "stdout",
     "output_type": "stream",
     "text": [
      "frame#877 big difference in X vals of left and right lane\n",
      "frame#878 big difference in X vals of left and right lane\n",
      "frame#879 big difference in X vals of left and right lane\n",
      "frame#879 bad frame streak reached\n"
     ]
    },
    {
     "name": "stderr",
     "output_type": "stream",
     "text": [
      " 70%|██████▉   | 881/1261 [01:10<00:32, 11.70it/s]"
     ]
    },
    {
     "name": "stdout",
     "output_type": "stream",
     "text": [
      "frame#880 big difference in X vals of left and right lane\n",
      "frame#881 big difference in X vals of left and right lane\n",
      "frame#882 big difference in X vals of left and right lane\n"
     ]
    },
    {
     "name": "stderr",
     "output_type": "stream",
     "text": [
      "\r",
      " 70%|███████   | 883/1261 [01:10<00:31, 12.01it/s]"
     ]
    },
    {
     "name": "stdout",
     "output_type": "stream",
     "text": [
      "frame#883 big difference in X vals of left and right lane\n",
      "frame#883 bad frame streak reached\n",
      "frame#884 big difference in X vals of left and right lane\n",
      "frame#885 big difference in X vals of left and right lane\n"
     ]
    },
    {
     "name": "stderr",
     "output_type": "stream",
     "text": [
      "\r",
      " 70%|███████   | 885/1261 [01:10<00:33, 11.15it/s]"
     ]
    },
    {
     "name": "stdout",
     "output_type": "stream",
     "text": [
      "frame#886 big difference in X vals of left and right lane\n",
      "frame#887 big difference in X vals of left and right lane\n",
      "frame#887 bad frame streak reached\n"
     ]
    },
    {
     "name": "stderr",
     "output_type": "stream",
     "text": [
      "\r",
      " 70%|███████   | 887/1261 [01:10<00:36, 10.32it/s]"
     ]
    },
    {
     "name": "stdout",
     "output_type": "stream",
     "text": [
      "frame#888 big difference in X vals of left and right lane\n",
      "frame#889 big difference in X vals of left and right lane\n",
      "frame#890 big difference in X vals of left and right lane\n"
     ]
    },
    {
     "name": "stderr",
     "output_type": "stream",
     "text": [
      " 71%|███████   | 891/1261 [01:11<00:35, 10.36it/s]"
     ]
    },
    {
     "name": "stdout",
     "output_type": "stream",
     "text": [
      "frame#891 big difference in X vals of left and right lane\n",
      "frame#891 bad frame streak reached\n",
      "frame#892 big difference in X vals of left and right lane\n",
      "frame#893 big difference in X vals of left and right lane\n"
     ]
    },
    {
     "name": "stderr",
     "output_type": "stream",
     "text": [
      " 71%|███████   | 895/1261 [01:11<00:32, 11.33it/s]"
     ]
    },
    {
     "name": "stdout",
     "output_type": "stream",
     "text": [
      "frame#894 big difference in X vals of left and right lane\n",
      "frame#895 big difference in X vals of left and right lane\n",
      "frame#895 bad frame streak reached\n",
      "frame#896 big difference in X vals of left and right lane\n"
     ]
    },
    {
     "name": "stderr",
     "output_type": "stream",
     "text": [
      "\r",
      " 71%|███████   | 897/1261 [01:11<00:31, 11.58it/s]"
     ]
    },
    {
     "name": "stdout",
     "output_type": "stream",
     "text": [
      "frame#897 big difference in X vals of left and right lane\n",
      "frame#898 big difference in X vals of left and right lane\n",
      "frame#899 big difference in X vals of left and right lane\n",
      "frame#899 bad frame streak reached\n"
     ]
    },
    {
     "name": "stderr",
     "output_type": "stream",
     "text": [
      " 71%|███████▏  | 901/1261 [01:12<00:29, 12.11it/s]"
     ]
    },
    {
     "name": "stdout",
     "output_type": "stream",
     "text": [
      "frame#900 big difference in X vals of left and right lane\n",
      "frame#901 big difference in X vals of left and right lane\n",
      "frame#902 big difference in X vals of left and right lane\n"
     ]
    },
    {
     "name": "stderr",
     "output_type": "stream",
     "text": [
      "\r",
      " 72%|███████▏  | 903/1261 [01:12<00:29, 12.11it/s]"
     ]
    },
    {
     "name": "stdout",
     "output_type": "stream",
     "text": [
      "frame#903 big difference in X vals of left and right lane\n",
      "frame#903 bad frame streak reached\n",
      "frame#904 big difference in X vals of left and right lane\n",
      "frame#905 big difference in X vals of left and right lane\n"
     ]
    },
    {
     "name": "stderr",
     "output_type": "stream",
     "text": [
      " 72%|███████▏  | 907/1261 [01:12<00:29, 12.02it/s]"
     ]
    },
    {
     "name": "stdout",
     "output_type": "stream",
     "text": [
      "frame#906 big difference in X vals of left and right lane\n",
      "frame#907 big difference in X vals of left and right lane\n",
      "frame#907 bad frame streak reached\n",
      "frame#908 big difference in X vals of left and right lane\n"
     ]
    },
    {
     "name": "stderr",
     "output_type": "stream",
     "text": [
      "\r",
      " 72%|███████▏  | 909/1261 [01:12<00:28, 12.17it/s]"
     ]
    },
    {
     "name": "stdout",
     "output_type": "stream",
     "text": [
      "frame#909 big difference in X vals of left and right lane\n",
      "frame#910 big difference in X vals of left and right lane\n",
      "frame#911 big difference in X vals of left and right lane\n",
      "frame#911 bad frame streak reached\n"
     ]
    },
    {
     "name": "stderr",
     "output_type": "stream",
     "text": [
      " 72%|███████▏  | 913/1261 [01:12<00:27, 12.60it/s]"
     ]
    },
    {
     "name": "stdout",
     "output_type": "stream",
     "text": [
      "frame#912 big difference in X vals of left and right lane\n",
      "frame#913 big difference in X vals of left and right lane\n",
      "frame#914 big difference in X vals of left and right lane\n"
     ]
    },
    {
     "name": "stderr",
     "output_type": "stream",
     "text": [
      "\r",
      " 73%|███████▎  | 915/1261 [01:13<00:27, 12.57it/s]"
     ]
    },
    {
     "name": "stdout",
     "output_type": "stream",
     "text": [
      "frame#915 big difference in X vals of left and right lane\n",
      "frame#915 bad frame streak reached\n",
      "frame#916 big difference in X vals of left and right lane\n",
      "frame#917 big difference in X vals of left and right lane\n"
     ]
    },
    {
     "name": "stderr",
     "output_type": "stream",
     "text": [
      " 73%|███████▎  | 919/1261 [01:13<00:26, 12.81it/s]"
     ]
    },
    {
     "name": "stdout",
     "output_type": "stream",
     "text": [
      "frame#918 big difference in X vals of left and right lane\n",
      "frame#919 big difference in X vals of left and right lane\n",
      "frame#919 bad frame streak reached\n",
      "frame#920 big difference in X vals of left and right lane\n"
     ]
    },
    {
     "name": "stderr",
     "output_type": "stream",
     "text": [
      "\r",
      " 73%|███████▎  | 921/1261 [01:13<00:26, 12.91it/s]"
     ]
    },
    {
     "name": "stdout",
     "output_type": "stream",
     "text": [
      "frame#921 big difference in X vals of left and right lane\n",
      "frame#922 big difference in X vals of left and right lane\n",
      "frame#923 big difference in X vals of left and right lane\n",
      "frame#923 bad frame streak reached\n"
     ]
    },
    {
     "name": "stderr",
     "output_type": "stream",
     "text": [
      " 73%|███████▎  | 925/1261 [01:13<00:25, 12.95it/s]"
     ]
    },
    {
     "name": "stdout",
     "output_type": "stream",
     "text": [
      "frame#924 big difference in X vals of left and right lane\n",
      "frame#925 big difference in X vals of left and right lane\n",
      "frame#926 big difference in X vals of left and right lane\n"
     ]
    },
    {
     "name": "stderr",
     "output_type": "stream",
     "text": [
      "\r",
      " 74%|███████▎  | 927/1261 [01:14<00:26, 12.77it/s]"
     ]
    },
    {
     "name": "stdout",
     "output_type": "stream",
     "text": [
      "frame#927 big difference in X vals of left and right lane\n",
      "frame#927 bad frame streak reached\n",
      "frame#928 big difference in X vals of left and right lane\n",
      "frame#929 big difference in X vals of left and right lane\n"
     ]
    },
    {
     "name": "stderr",
     "output_type": "stream",
     "text": [
      " 74%|███████▍  | 931/1261 [01:14<00:25, 12.75it/s]"
     ]
    },
    {
     "name": "stdout",
     "output_type": "stream",
     "text": [
      "frame#930 big difference in X vals of left and right lane\n",
      "frame#931 big difference in X vals of left and right lane\n",
      "frame#931 bad frame streak reached\n",
      "frame#932 big difference in X vals of left and right lane\n"
     ]
    },
    {
     "name": "stderr",
     "output_type": "stream",
     "text": [
      "\r",
      " 74%|███████▍  | 933/1261 [01:14<00:25, 12.83it/s]"
     ]
    },
    {
     "name": "stdout",
     "output_type": "stream",
     "text": [
      "frame#933 big difference in X vals of left and right lane\n",
      "frame#934 big difference in X vals of left and right lane\n",
      "frame#935 big difference in X vals of left and right lane\n",
      "frame#935 bad frame streak reached\n"
     ]
    },
    {
     "name": "stderr",
     "output_type": "stream",
     "text": [
      " 74%|███████▍  | 937/1261 [01:14<00:25, 12.78it/s]"
     ]
    },
    {
     "name": "stdout",
     "output_type": "stream",
     "text": [
      "frame#936 big difference in X vals of left and right lane\n",
      "frame#937 big difference in X vals of left and right lane\n",
      "frame#938 big difference in X vals of left and right lane\n"
     ]
    },
    {
     "name": "stderr",
     "output_type": "stream",
     "text": [
      "\r",
      " 74%|███████▍  | 939/1261 [01:15<00:25, 12.81it/s]"
     ]
    },
    {
     "name": "stdout",
     "output_type": "stream",
     "text": [
      "frame#939 big difference in X vals of left and right lane\n",
      "frame#939 bad frame streak reached\n",
      "frame#940 big difference in X vals of left and right lane\n",
      "frame#941 big difference in X vals of left and right lane\n"
     ]
    },
    {
     "name": "stderr",
     "output_type": "stream",
     "text": [
      " 75%|███████▍  | 943/1261 [01:15<00:24, 12.91it/s]"
     ]
    },
    {
     "name": "stdout",
     "output_type": "stream",
     "text": [
      "frame#942 big difference in X vals of left and right lane\n",
      "frame#943 big difference in X vals of left and right lane\n",
      "frame#943 bad frame streak reached\n",
      "frame#944 big difference in X vals of left and right lane\n"
     ]
    },
    {
     "name": "stderr",
     "output_type": "stream",
     "text": [
      "\r",
      " 75%|███████▍  | 945/1261 [01:15<00:24, 13.05it/s]"
     ]
    },
    {
     "name": "stdout",
     "output_type": "stream",
     "text": [
      "frame#945 big difference in X vals of left and right lane\n",
      "frame#946 big difference in X vals of left and right lane\n",
      "frame#947 big difference in X vals of left and right lane\n",
      "frame#947 bad frame streak reached\n"
     ]
    },
    {
     "name": "stderr",
     "output_type": "stream",
     "text": [
      " 75%|███████▌  | 949/1261 [01:15<00:24, 12.92it/s]"
     ]
    },
    {
     "name": "stdout",
     "output_type": "stream",
     "text": [
      "frame#948 big difference in X vals of left and right lane\n",
      "frame#949 big difference in X vals of left and right lane\n",
      "frame#950 big difference in X vals of left and right lane\n"
     ]
    },
    {
     "name": "stderr",
     "output_type": "stream",
     "text": [
      "\r",
      " 75%|███████▌  | 951/1261 [01:15<00:24, 12.91it/s]"
     ]
    },
    {
     "name": "stdout",
     "output_type": "stream",
     "text": [
      "frame#951 big difference in X vals of left and right lane\n",
      "frame#951 bad frame streak reached\n",
      "frame#952 big difference in X vals of left and right lane\n",
      "frame#953 big difference in X vals of left and right lane\n"
     ]
    },
    {
     "name": "stderr",
     "output_type": "stream",
     "text": [
      " 76%|███████▌  | 955/1261 [01:16<00:23, 12.96it/s]"
     ]
    },
    {
     "name": "stdout",
     "output_type": "stream",
     "text": [
      "frame#954 big difference in X vals of left and right lane\n",
      "frame#955 big difference in X vals of left and right lane\n",
      "frame#955 bad frame streak reached\n",
      "frame#956 big difference in X vals of left and right lane\n"
     ]
    },
    {
     "name": "stderr",
     "output_type": "stream",
     "text": [
      "\r",
      " 76%|███████▌  | 957/1261 [01:16<00:23, 13.08it/s]"
     ]
    },
    {
     "name": "stdout",
     "output_type": "stream",
     "text": [
      "frame#957 big difference in X vals of left and right lane\n",
      "frame#958 big difference in X vals of left and right lane\n",
      "frame#959 big difference in X vals of left and right lane\n",
      "frame#959 bad frame streak reached\n"
     ]
    },
    {
     "name": "stderr",
     "output_type": "stream",
     "text": [
      " 76%|███████▌  | 961/1261 [01:16<00:23, 13.02it/s]"
     ]
    },
    {
     "name": "stdout",
     "output_type": "stream",
     "text": [
      "frame#960 big difference in X vals of left and right lane\n",
      "frame#961 big difference in X vals of left and right lane\n",
      "frame#962 big difference in X vals of left and right lane\n"
     ]
    },
    {
     "name": "stderr",
     "output_type": "stream",
     "text": [
      "\r",
      " 76%|███████▋  | 963/1261 [01:16<00:23, 12.90it/s]"
     ]
    },
    {
     "name": "stdout",
     "output_type": "stream",
     "text": [
      "frame#963 big difference in X vals of left and right lane\n",
      "frame#963 bad frame streak reached\n",
      "frame#964 big difference in X vals of left and right lane\n",
      "frame#965 big difference in X vals of left and right lane\n"
     ]
    },
    {
     "name": "stderr",
     "output_type": "stream",
     "text": [
      " 77%|███████▋  | 967/1261 [01:17<00:22, 12.81it/s]"
     ]
    },
    {
     "name": "stdout",
     "output_type": "stream",
     "text": [
      "frame#966 big difference in X vals of left and right lane\n",
      "frame#967 big difference in X vals of left and right lane\n",
      "frame#967 bad frame streak reached\n",
      "frame#968 big difference in X vals of left and right lane\n"
     ]
    },
    {
     "name": "stderr",
     "output_type": "stream",
     "text": [
      "\r",
      " 77%|███████▋  | 969/1261 [01:17<00:22, 12.86it/s]"
     ]
    },
    {
     "name": "stdout",
     "output_type": "stream",
     "text": [
      "frame#969 big difference in X vals of left and right lane\n",
      "frame#970 big difference in X vals of left and right lane\n",
      "frame#971 big difference in X vals of left and right lane\n",
      "frame#971 bad frame streak reached\n"
     ]
    },
    {
     "name": "stderr",
     "output_type": "stream",
     "text": [
      " 77%|███████▋  | 973/1261 [01:17<00:22, 12.89it/s]"
     ]
    },
    {
     "name": "stdout",
     "output_type": "stream",
     "text": [
      "frame#972 big difference in X vals of left and right lane\n",
      "frame#973 big difference in X vals of left and right lane\n",
      "frame#974 big difference in X vals of left and right lane\n"
     ]
    },
    {
     "name": "stderr",
     "output_type": "stream",
     "text": [
      "\r",
      " 77%|███████▋  | 975/1261 [01:17<00:22, 12.83it/s]"
     ]
    },
    {
     "name": "stdout",
     "output_type": "stream",
     "text": [
      "frame#975 big difference in X vals of left and right lane\n",
      "frame#975 bad frame streak reached\n",
      "frame#976 big difference in X vals of left and right lane\n",
      "frame#977 big difference in X vals of left and right lane\n"
     ]
    },
    {
     "name": "stderr",
     "output_type": "stream",
     "text": [
      " 78%|███████▊  | 979/1261 [01:18<00:22, 12.44it/s]"
     ]
    },
    {
     "name": "stdout",
     "output_type": "stream",
     "text": [
      "frame#978 big difference in X vals of left and right lane\n",
      "frame#979 big difference in X vals of left and right lane\n",
      "frame#979 bad frame streak reached\n"
     ]
    },
    {
     "name": "stderr",
     "output_type": "stream",
     "text": [
      " 78%|███████▊  | 985/1261 [01:18<00:22, 12.51it/s]"
     ]
    },
    {
     "name": "stdout",
     "output_type": "stream",
     "text": [
      "frame#985 big difference in X vals of left and right lane\n",
      "frame#986 big difference in X vals of left and right lane\n",
      "frame#987 big difference in X vals of left and right lane\n"
     ]
    },
    {
     "name": "stderr",
     "output_type": "stream",
     "text": [
      " 78%|███████▊  | 989/1261 [01:18<00:21, 12.92it/s]"
     ]
    },
    {
     "name": "stdout",
     "output_type": "stream",
     "text": [
      "frame#988 big difference in X vals of left and right lane\n",
      "frame#988 bad frame streak reached\n",
      "frame#989 big difference in X vals of left and right lane\n",
      "frame#990 big difference in X vals of left and right lane\n"
     ]
    },
    {
     "name": "stderr",
     "output_type": "stream",
     "text": [
      "\r",
      " 79%|███████▊  | 991/1261 [01:19<00:21, 12.85it/s]"
     ]
    },
    {
     "name": "stdout",
     "output_type": "stream",
     "text": [
      "frame#991 big difference in X vals of left and right lane\n",
      "frame#992 big difference in X vals of left and right lane\n",
      "frame#992 bad frame streak reached\n",
      "frame#993 big difference in X vals of left and right lane\n"
     ]
    },
    {
     "name": "stderr",
     "output_type": "stream",
     "text": [
      " 79%|███████▉  | 995/1261 [01:19<00:21, 12.50it/s]"
     ]
    },
    {
     "name": "stdout",
     "output_type": "stream",
     "text": [
      "frame#994 big difference in X vals of left and right lane\n",
      "frame#995 big difference in X vals of left and right lane\n",
      "frame#996 big difference in X vals of left and right lane\n",
      "frame#996 bad frame streak reached\n"
     ]
    },
    {
     "name": "stderr",
     "output_type": "stream",
     "text": [
      " 79%|███████▉  | 999/1261 [01:19<00:21, 12.45it/s]"
     ]
    },
    {
     "name": "stdout",
     "output_type": "stream",
     "text": [
      "frame#999 big difference in X vals of left and right lane\n"
     ]
    },
    {
     "name": "stderr",
     "output_type": "stream",
     "text": [
      " 80%|███████▉  | 1003/1261 [01:20<00:19, 12.96it/s]"
     ]
    },
    {
     "name": "stdout",
     "output_type": "stream",
     "text": [
      "frame#1003 big difference in X vals of left and right lane\n",
      "frame#1004 big difference in X vals of left and right lane\n"
     ]
    },
    {
     "name": "stderr",
     "output_type": "stream",
     "text": [
      " 83%|████████▎ | 1043/1261 [01:23<00:15, 13.77it/s]"
     ]
    },
    {
     "name": "stdout",
     "output_type": "stream",
     "text": [
      "frame#1042 big difference in X vals of left and right lane\n",
      "frame#1043 big difference in X vals of left and right lane\n",
      "frame#1044 big difference in X vals of left and right lane\n"
     ]
    },
    {
     "name": "stderr",
     "output_type": "stream",
     "text": [
      " 83%|████████▎ | 1051/1261 [01:23<00:15, 13.92it/s]"
     ]
    },
    {
     "name": "stdout",
     "output_type": "stream",
     "text": [
      "frame#1051 big difference in X vals of left and right lane\n",
      "frame#1052 big difference in X vals of left and right lane\n",
      "frame#1053 big difference in X vals of left and right lane\n"
     ]
    },
    {
     "name": "stderr",
     "output_type": "stream",
     "text": [
      " 84%|████████▎ | 1055/1261 [01:23<00:15, 13.60it/s]"
     ]
    },
    {
     "name": "stdout",
     "output_type": "stream",
     "text": [
      "frame#1054 big difference in X vals of left and right lane\n",
      "frame#1054 bad frame streak reached\n",
      "frame#1055 big difference in X vals of left and right lane\n",
      "frame#1056 big difference in X vals of left and right lane\n"
     ]
    },
    {
     "name": "stderr",
     "output_type": "stream",
     "text": [
      "\r",
      " 84%|████████▍ | 1057/1261 [01:24<00:15, 13.30it/s]"
     ]
    },
    {
     "name": "stdout",
     "output_type": "stream",
     "text": [
      "frame#1057 big difference in X vals of left and right lane\n",
      "frame#1058 big difference in X vals of left and right lane\n",
      "frame#1058 bad frame streak reached\n",
      "frame#1059 big difference in X vals of left and right lane\n"
     ]
    },
    {
     "name": "stderr",
     "output_type": "stream",
     "text": [
      " 84%|████████▍ | 1061/1261 [01:24<00:15, 13.05it/s]"
     ]
    },
    {
     "name": "stdout",
     "output_type": "stream",
     "text": [
      "frame#1060 big difference in X vals of left and right lane\n",
      "frame#1061 big difference in X vals of left and right lane\n",
      "frame#1062 big difference in X vals of left and right lane\n",
      "frame#1062 bad frame streak reached\n"
     ]
    },
    {
     "name": "stderr",
     "output_type": "stream",
     "text": [
      "\r",
      " 84%|████████▍ | 1063/1261 [01:24<00:15, 13.04it/s]"
     ]
    },
    {
     "name": "stdout",
     "output_type": "stream",
     "text": [
      "frame#1063 big difference in X vals of left and right lane\n",
      "frame#1064 big difference in X vals of left and right lane\n",
      "frame#1065 big difference in X vals of left and right lane\n"
     ]
    },
    {
     "name": "stderr",
     "output_type": "stream",
     "text": [
      " 85%|████████▍ | 1069/1261 [01:25<00:15, 12.79it/s]"
     ]
    },
    {
     "name": "stdout",
     "output_type": "stream",
     "text": [
      "frame#1069 big difference in X vals of left and right lane\n"
     ]
    },
    {
     "name": "stderr",
     "output_type": "stream",
     "text": [
      " 85%|████████▌ | 1075/1261 [01:25<00:14, 12.70it/s]"
     ]
    },
    {
     "name": "stdout",
     "output_type": "stream",
     "text": [
      "frame#1074 big difference in X vals of left and right lane\n"
     ]
    },
    {
     "name": "stderr",
     "output_type": "stream",
     "text": [
      "\r",
      " 85%|████████▌ | 1077/1261 [01:25<00:14, 12.83it/s]"
     ]
    },
    {
     "name": "stdout",
     "output_type": "stream",
     "text": [
      "frame#1078 big difference in X vals of left and right lane\n"
     ]
    },
    {
     "name": "stderr",
     "output_type": "stream",
     "text": [
      " 86%|████████▌ | 1085/1261 [01:26<00:14, 12.37it/s]"
     ]
    },
    {
     "name": "stdout",
     "output_type": "stream",
     "text": [
      "frame#1084 big difference in X vals of left and right lane\n",
      "frame#1085 big difference in X vals of left and right lane\n",
      "frame#1086 big difference in X vals of left and right lane\n"
     ]
    },
    {
     "name": "stderr",
     "output_type": "stream",
     "text": [
      "\r",
      " 86%|████████▌ | 1087/1261 [01:26<00:13, 12.47it/s]"
     ]
    },
    {
     "name": "stdout",
     "output_type": "stream",
     "text": [
      "frame#1087 big difference in X vals of left and right lane\n",
      "frame#1087 bad frame streak reached\n",
      "frame#1088 big difference in X vals of left and right lane\n",
      "frame#1089 big difference in X vals of left and right lane\n"
     ]
    },
    {
     "name": "stderr",
     "output_type": "stream",
     "text": [
      " 87%|████████▋ | 1091/1261 [01:26<00:13, 12.49it/s]"
     ]
    },
    {
     "name": "stdout",
     "output_type": "stream",
     "text": [
      "frame#1090 big difference in X vals of left and right lane\n",
      "frame#1091 big difference in X vals of left and right lane\n",
      "frame#1091 bad frame streak reached\n",
      "frame#1092 big difference in X vals of left and right lane\n"
     ]
    },
    {
     "name": "stderr",
     "output_type": "stream",
     "text": [
      "\r",
      " 87%|████████▋ | 1093/1261 [01:26<00:13, 12.60it/s]"
     ]
    },
    {
     "name": "stdout",
     "output_type": "stream",
     "text": [
      "frame#1093 big difference in X vals of left and right lane\n",
      "frame#1094 big difference in X vals of left and right lane\n",
      "frame#1095 big difference in X vals of left and right lane\n",
      "frame#1095 bad frame streak reached\n"
     ]
    },
    {
     "name": "stderr",
     "output_type": "stream",
     "text": [
      " 87%|████████▋ | 1097/1261 [01:27<00:12, 12.64it/s]"
     ]
    },
    {
     "name": "stdout",
     "output_type": "stream",
     "text": [
      "frame#1096 big difference in X vals of left and right lane\n",
      "frame#1097 big difference in X vals of left and right lane\n",
      "frame#1098 big difference in X vals of left and right lane\n"
     ]
    },
    {
     "name": "stderr",
     "output_type": "stream",
     "text": [
      "\r",
      " 87%|████████▋ | 1099/1261 [01:27<00:12, 12.62it/s]"
     ]
    },
    {
     "name": "stdout",
     "output_type": "stream",
     "text": [
      "frame#1099 big difference in X vals of left and right lane\n",
      "frame#1099 bad frame streak reached\n",
      "frame#1100 big difference in X vals of left and right lane\n",
      "frame#1101 big difference in X vals of left and right lane\n"
     ]
    },
    {
     "name": "stderr",
     "output_type": "stream",
     "text": [
      " 87%|████████▋ | 1103/1261 [01:27<00:12, 12.91it/s]"
     ]
    },
    {
     "name": "stdout",
     "output_type": "stream",
     "text": [
      "frame#1102 big difference in X vals of left and right lane\n",
      "frame#1103 big difference in X vals of left and right lane\n",
      "frame#1103 bad frame streak reached\n",
      "frame#1104 big difference in X vals of left and right lane\n"
     ]
    },
    {
     "name": "stderr",
     "output_type": "stream",
     "text": [
      "\r",
      " 88%|████████▊ | 1105/1261 [01:27<00:12, 12.98it/s]"
     ]
    },
    {
     "name": "stdout",
     "output_type": "stream",
     "text": [
      "frame#1105 big difference in X vals of left and right lane\n",
      "frame#1106 big difference in X vals of left and right lane\n",
      "frame#1107 big difference in X vals of left and right lane\n",
      "frame#1107 bad frame streak reached\n"
     ]
    },
    {
     "name": "stderr",
     "output_type": "stream",
     "text": [
      " 88%|████████▊ | 1109/1261 [01:28<00:11, 13.00it/s]"
     ]
    },
    {
     "name": "stdout",
     "output_type": "stream",
     "text": [
      "frame#1108 big difference in X vals of left and right lane\n",
      "frame#1109 big difference in X vals of left and right lane\n",
      "frame#1110 big difference in X vals of left and right lane\n"
     ]
    },
    {
     "name": "stderr",
     "output_type": "stream",
     "text": [
      "\r",
      " 88%|████████▊ | 1111/1261 [01:28<00:11, 12.90it/s]"
     ]
    },
    {
     "name": "stdout",
     "output_type": "stream",
     "text": [
      "frame#1111 big difference in X vals of left and right lane\n",
      "frame#1111 bad frame streak reached\n",
      "frame#1112 big difference in X vals of left and right lane\n",
      "frame#1113 big difference in X vals of left and right lane\n"
     ]
    },
    {
     "name": "stderr",
     "output_type": "stream",
     "text": [
      " 88%|████████▊ | 1115/1261 [01:28<00:11, 12.82it/s]"
     ]
    },
    {
     "name": "stdout",
     "output_type": "stream",
     "text": [
      "frame#1114 big difference in X vals of left and right lane\n",
      "frame#1115 big difference in X vals of left and right lane\n",
      "frame#1115 bad frame streak reached\n",
      "frame#1116 big difference in X vals of left and right lane\n"
     ]
    },
    {
     "name": "stderr",
     "output_type": "stream",
     "text": [
      "\r",
      " 89%|████████▊ | 1117/1261 [01:28<00:11, 12.88it/s]"
     ]
    },
    {
     "name": "stdout",
     "output_type": "stream",
     "text": [
      "frame#1117 big difference in X vals of left and right lane\n",
      "frame#1118 big difference in X vals of left and right lane\n",
      "frame#1119 big difference in X vals of left and right lane\n",
      "frame#1119 bad frame streak reached\n"
     ]
    },
    {
     "name": "stderr",
     "output_type": "stream",
     "text": [
      " 89%|████████▉ | 1121/1261 [01:29<00:10, 12.92it/s]"
     ]
    },
    {
     "name": "stdout",
     "output_type": "stream",
     "text": [
      "frame#1120 big difference in X vals of left and right lane\n",
      "frame#1121 big difference in X vals of left and right lane\n",
      "frame#1122 big difference in X vals of left and right lane\n"
     ]
    },
    {
     "name": "stderr",
     "output_type": "stream",
     "text": [
      "\r",
      " 89%|████████▉ | 1123/1261 [01:29<00:10, 12.93it/s]"
     ]
    },
    {
     "name": "stdout",
     "output_type": "stream",
     "text": [
      "frame#1123 big difference in X vals of left and right lane\n",
      "frame#1123 bad frame streak reached\n",
      "frame#1124 big difference in X vals of left and right lane\n",
      "frame#1125 big difference in X vals of left and right lane\n"
     ]
    },
    {
     "name": "stderr",
     "output_type": "stream",
     "text": [
      " 89%|████████▉ | 1127/1261 [01:29<00:10, 13.01it/s]"
     ]
    },
    {
     "name": "stdout",
     "output_type": "stream",
     "text": [
      "frame#1126 big difference in X vals of left and right lane\n",
      "frame#1127 big difference in X vals of left and right lane\n",
      "frame#1127 bad frame streak reached\n",
      "frame#1128 big difference in X vals of left and right lane\n"
     ]
    },
    {
     "name": "stderr",
     "output_type": "stream",
     "text": [
      "\r",
      " 90%|████████▉ | 1129/1261 [01:29<00:10, 12.98it/s]"
     ]
    },
    {
     "name": "stdout",
     "output_type": "stream",
     "text": [
      "frame#1129 big difference in X vals of left and right lane\n",
      "frame#1130 big difference in X vals of left and right lane\n",
      "frame#1131 big difference in X vals of left and right lane\n",
      "frame#1131 bad frame streak reached\n"
     ]
    },
    {
     "name": "stderr",
     "output_type": "stream",
     "text": [
      " 90%|████████▉ | 1133/1261 [01:30<00:09, 13.03it/s]"
     ]
    },
    {
     "name": "stdout",
     "output_type": "stream",
     "text": [
      "frame#1132 big difference in X vals of left and right lane\n",
      "frame#1133 big difference in X vals of left and right lane\n",
      "frame#1134 big difference in X vals of left and right lane\n"
     ]
    },
    {
     "name": "stderr",
     "output_type": "stream",
     "text": [
      "\r",
      " 90%|█████████ | 1135/1261 [01:30<00:09, 13.08it/s]"
     ]
    },
    {
     "name": "stdout",
     "output_type": "stream",
     "text": [
      "frame#1135 big difference in X vals of left and right lane\n",
      "frame#1135 bad frame streak reached\n",
      "frame#1136 big difference in X vals of left and right lane\n",
      "frame#1137 big difference in X vals of left and right lane\n"
     ]
    },
    {
     "name": "stderr",
     "output_type": "stream",
     "text": [
      " 90%|█████████ | 1139/1261 [01:30<00:09, 13.05it/s]"
     ]
    },
    {
     "name": "stdout",
     "output_type": "stream",
     "text": [
      "frame#1138 big difference in X vals of left and right lane\n",
      "frame#1139 big difference in X vals of left and right lane\n",
      "frame#1139 bad frame streak reached\n",
      "frame#1140 big difference in X vals of left and right lane\n"
     ]
    },
    {
     "name": "stderr",
     "output_type": "stream",
     "text": [
      "\r",
      " 90%|█████████ | 1141/1261 [01:30<00:09, 13.03it/s]"
     ]
    },
    {
     "name": "stdout",
     "output_type": "stream",
     "text": [
      "frame#1141 big difference in X vals of left and right lane\n",
      "frame#1142 big difference in X vals of left and right lane\n",
      "frame#1143 big difference in X vals of left and right lane\n",
      "frame#1143 bad frame streak reached\n"
     ]
    },
    {
     "name": "stderr",
     "output_type": "stream",
     "text": [
      " 91%|█████████ | 1145/1261 [01:30<00:08, 12.98it/s]"
     ]
    },
    {
     "name": "stdout",
     "output_type": "stream",
     "text": [
      "frame#1144 big difference in X vals of left and right lane\n",
      "frame#1145 big difference in X vals of left and right lane\n",
      "frame#1146 big difference in X vals of left and right lane\n"
     ]
    },
    {
     "name": "stderr",
     "output_type": "stream",
     "text": [
      "\r",
      " 91%|█████████ | 1147/1261 [01:31<00:08, 12.94it/s]"
     ]
    },
    {
     "name": "stdout",
     "output_type": "stream",
     "text": [
      "frame#1147 big difference in X vals of left and right lane\n",
      "frame#1147 bad frame streak reached\n",
      "frame#1148 big difference in X vals of left and right lane\n",
      "frame#1149 big difference in X vals of left and right lane\n"
     ]
    },
    {
     "name": "stderr",
     "output_type": "stream",
     "text": [
      " 91%|█████████▏| 1151/1261 [01:31<00:08, 13.08it/s]"
     ]
    },
    {
     "name": "stdout",
     "output_type": "stream",
     "text": [
      "frame#1150 big difference in X vals of left and right lane\n",
      "frame#1151 big difference in X vals of left and right lane\n",
      "frame#1151 bad frame streak reached\n",
      "frame#1152 big difference in X vals of left and right lane\n"
     ]
    },
    {
     "name": "stderr",
     "output_type": "stream",
     "text": [
      "\r",
      " 91%|█████████▏| 1153/1261 [01:31<00:08, 13.11it/s]"
     ]
    },
    {
     "name": "stdout",
     "output_type": "stream",
     "text": [
      "frame#1153 big difference in X vals of left and right lane\n",
      "frame#1154 big difference in X vals of left and right lane\n",
      "frame#1155 big difference in X vals of left and right lane\n",
      "frame#1155 bad frame streak reached\n"
     ]
    },
    {
     "name": "stderr",
     "output_type": "stream",
     "text": [
      " 92%|█████████▏| 1157/1261 [01:31<00:08, 12.99it/s]"
     ]
    },
    {
     "name": "stdout",
     "output_type": "stream",
     "text": [
      "frame#1156 big difference in X vals of left and right lane\n",
      "frame#1157 big difference in X vals of left and right lane\n",
      "frame#1158 big difference in X vals of left and right lane\n"
     ]
    },
    {
     "name": "stderr",
     "output_type": "stream",
     "text": [
      "\r",
      " 92%|█████████▏| 1159/1261 [01:32<00:07, 12.83it/s]"
     ]
    },
    {
     "name": "stdout",
     "output_type": "stream",
     "text": [
      "frame#1159 big difference in X vals of left and right lane\n",
      "frame#1159 bad frame streak reached\n",
      "frame#1160 big difference in X vals of left and right lane\n",
      "frame#1161 big difference in X vals of left and right lane\n"
     ]
    },
    {
     "name": "stderr",
     "output_type": "stream",
     "text": [
      " 92%|█████████▏| 1163/1261 [01:32<00:07, 12.64it/s]"
     ]
    },
    {
     "name": "stdout",
     "output_type": "stream",
     "text": [
      "frame#1162 big difference in X vals of left and right lane\n",
      "frame#1163 big difference in X vals of left and right lane\n",
      "frame#1163 bad frame streak reached\n",
      "frame#1164 big difference in X vals of left and right lane\n"
     ]
    },
    {
     "name": "stderr",
     "output_type": "stream",
     "text": [
      "\r",
      " 92%|█████████▏| 1165/1261 [01:32<00:07, 12.76it/s]"
     ]
    },
    {
     "name": "stdout",
     "output_type": "stream",
     "text": [
      "frame#1165 big difference in X vals of left and right lane\n",
      "frame#1166 big difference in X vals of left and right lane\n",
      "frame#1167 big difference in X vals of left and right lane\n",
      "frame#1167 bad frame streak reached\n"
     ]
    },
    {
     "name": "stderr",
     "output_type": "stream",
     "text": [
      " 93%|█████████▎| 1169/1261 [01:32<00:07, 12.92it/s]"
     ]
    },
    {
     "name": "stdout",
     "output_type": "stream",
     "text": [
      "frame#1168 big difference in X vals of left and right lane\n",
      "frame#1169 big difference in X vals of left and right lane\n",
      "frame#1170 big difference in X vals of left and right lane\n"
     ]
    },
    {
     "name": "stderr",
     "output_type": "stream",
     "text": [
      "\r",
      " 93%|█████████▎| 1171/1261 [01:33<00:07, 12.70it/s]"
     ]
    },
    {
     "name": "stdout",
     "output_type": "stream",
     "text": [
      "frame#1171 big difference in X vals of left and right lane\n",
      "frame#1171 bad frame streak reached\n",
      "frame#1172 big difference in X vals of left and right lane\n",
      "frame#1173 big difference in X vals of left and right lane\n"
     ]
    },
    {
     "name": "stderr",
     "output_type": "stream",
     "text": [
      " 93%|█████████▎| 1175/1261 [01:33<00:06, 12.90it/s]"
     ]
    },
    {
     "name": "stdout",
     "output_type": "stream",
     "text": [
      "frame#1174 big difference in X vals of left and right lane\n",
      "frame#1175 big difference in X vals of left and right lane\n",
      "frame#1175 bad frame streak reached\n",
      "frame#1176 big difference in X vals of left and right lane\n"
     ]
    },
    {
     "name": "stderr",
     "output_type": "stream",
     "text": [
      "\r",
      " 93%|█████████▎| 1177/1261 [01:33<00:06, 13.05it/s]"
     ]
    },
    {
     "name": "stdout",
     "output_type": "stream",
     "text": [
      "frame#1177 big difference in X vals of left and right lane\n",
      "frame#1178 big difference in X vals of left and right lane\n",
      "frame#1179 big difference in X vals of left and right lane\n",
      "frame#1179 bad frame streak reached\n"
     ]
    },
    {
     "name": "stderr",
     "output_type": "stream",
     "text": [
      " 94%|█████████▎| 1181/1261 [01:33<00:06, 13.10it/s]"
     ]
    },
    {
     "name": "stdout",
     "output_type": "stream",
     "text": [
      "frame#1180 big difference in X vals of left and right lane\n",
      "frame#1181 big difference in X vals of left and right lane\n",
      "frame#1182 big difference in X vals of left and right lane\n"
     ]
    },
    {
     "name": "stderr",
     "output_type": "stream",
     "text": [
      "\r",
      " 94%|█████████▍| 1183/1261 [01:33<00:05, 13.01it/s]"
     ]
    },
    {
     "name": "stdout",
     "output_type": "stream",
     "text": [
      "frame#1183 big difference in X vals of left and right lane\n",
      "frame#1183 bad frame streak reached\n",
      "frame#1184 big difference in X vals of left and right lane\n",
      "frame#1185 big difference in X vals of left and right lane\n"
     ]
    },
    {
     "name": "stderr",
     "output_type": "stream",
     "text": [
      " 94%|█████████▍| 1187/1261 [01:34<00:05, 12.96it/s]"
     ]
    },
    {
     "name": "stdout",
     "output_type": "stream",
     "text": [
      "frame#1186 big difference in X vals of left and right lane\n",
      "frame#1187 big difference in X vals of left and right lane\n",
      "frame#1187 bad frame streak reached\n",
      "frame#1188 big difference in X vals of left and right lane\n"
     ]
    },
    {
     "name": "stderr",
     "output_type": "stream",
     "text": [
      "\r",
      " 94%|█████████▍| 1189/1261 [01:34<00:05, 13.00it/s]"
     ]
    },
    {
     "name": "stdout",
     "output_type": "stream",
     "text": [
      "frame#1189 big difference in X vals of left and right lane\n",
      "frame#1190 big difference in X vals of left and right lane\n",
      "frame#1191 big difference in X vals of left and right lane\n",
      "frame#1191 bad frame streak reached\n"
     ]
    },
    {
     "name": "stderr",
     "output_type": "stream",
     "text": [
      " 95%|█████████▍| 1193/1261 [01:34<00:05, 12.81it/s]"
     ]
    },
    {
     "name": "stdout",
     "output_type": "stream",
     "text": [
      "frame#1192 big difference in X vals of left and right lane\n",
      "frame#1193 big difference in X vals of left and right lane\n",
      "frame#1194 big difference in X vals of left and right lane\n"
     ]
    },
    {
     "name": "stderr",
     "output_type": "stream",
     "text": [
      "\r",
      " 95%|█████████▍| 1195/1261 [01:34<00:05, 12.64it/s]"
     ]
    },
    {
     "name": "stdout",
     "output_type": "stream",
     "text": [
      "frame#1195 big difference in X vals of left and right lane\n",
      "frame#1195 bad frame streak reached\n",
      "frame#1196 big difference in X vals of left and right lane\n",
      "frame#1197 big difference in X vals of left and right lane\n"
     ]
    },
    {
     "name": "stderr",
     "output_type": "stream",
     "text": [
      " 95%|█████████▌| 1199/1261 [01:35<00:04, 12.56it/s]"
     ]
    },
    {
     "name": "stdout",
     "output_type": "stream",
     "text": [
      "frame#1198 big difference in X vals of left and right lane\n",
      "frame#1199 big difference in X vals of left and right lane\n",
      "frame#1199 bad frame streak reached\n",
      "frame#1200 big difference in X vals of left and right lane\n"
     ]
    },
    {
     "name": "stderr",
     "output_type": "stream",
     "text": [
      "\r",
      " 95%|█████████▌| 1201/1261 [01:35<00:04, 12.76it/s]"
     ]
    },
    {
     "name": "stdout",
     "output_type": "stream",
     "text": [
      "frame#1201 big difference in X vals of left and right lane\n",
      "frame#1202 big difference in X vals of left and right lane\n",
      "frame#1203 big difference in X vals of left and right lane\n",
      "frame#1203 bad frame streak reached\n"
     ]
    },
    {
     "name": "stderr",
     "output_type": "stream",
     "text": [
      " 96%|█████████▌| 1205/1261 [01:35<00:04, 12.91it/s]"
     ]
    },
    {
     "name": "stdout",
     "output_type": "stream",
     "text": [
      "frame#1204 big difference in X vals of left and right lane\n",
      "frame#1205 big difference in X vals of left and right lane\n",
      "frame#1206 big difference in X vals of left and right lane\n"
     ]
    },
    {
     "name": "stderr",
     "output_type": "stream",
     "text": [
      "\r",
      " 96%|█████████▌| 1207/1261 [01:35<00:04, 12.89it/s]"
     ]
    },
    {
     "name": "stdout",
     "output_type": "stream",
     "text": [
      "frame#1207 big difference in X vals of left and right lane\n",
      "frame#1207 bad frame streak reached\n",
      "frame#1208 big difference in X vals of left and right lane\n",
      "frame#1209 big difference in X vals of left and right lane\n"
     ]
    },
    {
     "name": "stderr",
     "output_type": "stream",
     "text": [
      " 96%|█████████▌| 1211/1261 [01:36<00:03, 12.56it/s]"
     ]
    },
    {
     "name": "stdout",
     "output_type": "stream",
     "text": [
      "frame#1210 big difference in X vals of left and right lane\n",
      "frame#1211 big difference in X vals of left and right lane\n",
      "frame#1211 bad frame streak reached\n",
      "frame#1212 big difference in X vals of left and right lane\n"
     ]
    },
    {
     "name": "stderr",
     "output_type": "stream",
     "text": [
      "\r",
      " 96%|█████████▌| 1213/1261 [01:36<00:03, 12.68it/s]"
     ]
    },
    {
     "name": "stdout",
     "output_type": "stream",
     "text": [
      "frame#1213 big difference in X vals of left and right lane\n",
      "frame#1214 big difference in X vals of left and right lane\n",
      "frame#1215 big difference in X vals of left and right lane\n",
      "frame#1215 bad frame streak reached\n"
     ]
    },
    {
     "name": "stderr",
     "output_type": "stream",
     "text": [
      " 97%|█████████▋| 1217/1261 [01:36<00:03, 12.21it/s]"
     ]
    },
    {
     "name": "stdout",
     "output_type": "stream",
     "text": [
      "frame#1216 big difference in X vals of left and right lane\n",
      "frame#1217 big difference in X vals of left and right lane\n",
      "frame#1218 big difference in X vals of left and right lane\n"
     ]
    },
    {
     "name": "stderr",
     "output_type": "stream",
     "text": [
      "\r",
      " 97%|█████████▋| 1219/1261 [01:36<00:03, 12.00it/s]"
     ]
    },
    {
     "name": "stdout",
     "output_type": "stream",
     "text": [
      "frame#1219 big difference in X vals of left and right lane\n",
      "frame#1219 bad frame streak reached\n",
      "frame#1220 big difference in X vals of left and right lane\n",
      "frame#1221 big difference in X vals of left and right lane\n"
     ]
    },
    {
     "name": "stderr",
     "output_type": "stream",
     "text": [
      " 97%|█████████▋| 1223/1261 [01:37<00:03, 12.47it/s]"
     ]
    },
    {
     "name": "stdout",
     "output_type": "stream",
     "text": [
      "frame#1222 big difference in X vals of left and right lane\n",
      "frame#1223 big difference in X vals of left and right lane\n",
      "frame#1223 bad frame streak reached\n",
      "frame#1224 big difference in X vals of left and right lane\n"
     ]
    },
    {
     "name": "stderr",
     "output_type": "stream",
     "text": [
      "\r",
      " 97%|█████████▋| 1225/1261 [01:37<00:02, 12.69it/s]"
     ]
    },
    {
     "name": "stdout",
     "output_type": "stream",
     "text": [
      "frame#1225 big difference in X vals of left and right lane\n",
      "frame#1226 big difference in X vals of left and right lane\n",
      "frame#1227 big difference in X vals of left and right lane\n",
      "frame#1227 bad frame streak reached\n"
     ]
    },
    {
     "name": "stderr",
     "output_type": "stream",
     "text": [
      " 97%|█████████▋| 1229/1261 [01:37<00:02, 12.76it/s]"
     ]
    },
    {
     "name": "stdout",
     "output_type": "stream",
     "text": [
      "frame#1228 big difference in X vals of left and right lane\n",
      "frame#1229 big difference in X vals of left and right lane\n",
      "frame#1230 big difference in X vals of left and right lane\n"
     ]
    },
    {
     "name": "stderr",
     "output_type": "stream",
     "text": [
      "\r",
      " 98%|█████████▊| 1231/1261 [01:37<00:02, 11.96it/s]"
     ]
    },
    {
     "name": "stdout",
     "output_type": "stream",
     "text": [
      "frame#1231 big difference in X vals of left and right lane\n",
      "frame#1231 bad frame streak reached\n",
      "frame#1232 big difference in X vals of left and right lane\n",
      "frame#1233 big difference in X vals of left and right lane\n"
     ]
    },
    {
     "name": "stderr",
     "output_type": "stream",
     "text": [
      "\r",
      " 98%|█████████▊| 1233/1261 [01:37<00:02, 11.52it/s]"
     ]
    },
    {
     "name": "stdout",
     "output_type": "stream",
     "text": [
      "frame#1234 big difference in X vals of left and right lane\n",
      "frame#1235 big difference in X vals of left and right lane\n",
      "frame#1235 bad frame streak reached\n",
      "frame#1236 big difference in X vals of left and right lane\n"
     ]
    },
    {
     "name": "stderr",
     "output_type": "stream",
     "text": [
      " 98%|█████████▊| 1237/1261 [01:38<00:02, 11.47it/s]"
     ]
    },
    {
     "name": "stdout",
     "output_type": "stream",
     "text": [
      "frame#1237 big difference in X vals of left and right lane\n",
      "frame#1238 big difference in X vals of left and right lane\n",
      "frame#1239 big difference in X vals of left and right lane\n",
      "frame#1239 bad frame streak reached\n"
     ]
    },
    {
     "name": "stderr",
     "output_type": "stream",
     "text": [
      " 98%|█████████▊| 1241/1261 [01:38<00:01, 12.23it/s]"
     ]
    },
    {
     "name": "stdout",
     "output_type": "stream",
     "text": [
      "frame#1240 big difference in X vals of left and right lane\n",
      "frame#1241 big difference in X vals of left and right lane\n",
      "frame#1242 big difference in X vals of left and right lane\n"
     ]
    },
    {
     "name": "stderr",
     "output_type": "stream",
     "text": [
      "\r",
      " 99%|█████████▊| 1243/1261 [01:38<00:01, 12.46it/s]"
     ]
    },
    {
     "name": "stdout",
     "output_type": "stream",
     "text": [
      "frame#1243 big difference in X vals of left and right lane\n",
      "frame#1243 bad frame streak reached\n",
      "frame#1244 big difference in X vals of left and right lane\n",
      "frame#1245 big difference in X vals of left and right lane\n"
     ]
    },
    {
     "name": "stderr",
     "output_type": "stream",
     "text": [
      " 99%|█████████▉| 1247/1261 [01:39<00:01, 12.85it/s]"
     ]
    },
    {
     "name": "stdout",
     "output_type": "stream",
     "text": [
      "frame#1246 big difference in X vals of left and right lane\n",
      "frame#1247 big difference in X vals of left and right lane\n",
      "frame#1247 bad frame streak reached\n",
      "frame#1248 big difference in X vals of left and right lane\n"
     ]
    },
    {
     "name": "stderr",
     "output_type": "stream",
     "text": [
      "\r",
      " 99%|█████████▉| 1249/1261 [01:39<00:00, 12.77it/s]"
     ]
    },
    {
     "name": "stdout",
     "output_type": "stream",
     "text": [
      "frame#1249 big difference in X vals of left and right lane\n",
      "frame#1250 big difference in X vals of left and right lane\n",
      "frame#1251 big difference in X vals of left and right lane\n",
      "frame#1251 bad frame streak reached\n"
     ]
    },
    {
     "name": "stderr",
     "output_type": "stream",
     "text": [
      " 99%|█████████▉| 1253/1261 [01:39<00:00, 12.85it/s]"
     ]
    },
    {
     "name": "stdout",
     "output_type": "stream",
     "text": [
      "frame#1252 big difference in X vals of left and right lane\n",
      "frame#1253 big difference in X vals of left and right lane\n",
      "frame#1254 big difference in X vals of left and right lane\n"
     ]
    },
    {
     "name": "stderr",
     "output_type": "stream",
     "text": [
      "100%|█████████▉| 1260/1261 [01:40<00:00, 12.58it/s]"
     ]
    },
    {
     "name": "stdout",
     "output_type": "stream",
     "text": [
      "frame#1259 big difference in X vals of left and right lane\n"
     ]
    },
    {
     "name": "stderr",
     "output_type": "stream",
     "text": [
      "\n"
     ]
    },
    {
     "name": "stdout",
     "output_type": "stream",
     "text": [
      "[MoviePy] Done.\n",
      "[MoviePy] >>>> Video ready: /tmp/project_video.mp4 \n",
      "\n",
      "CPU times: user 2min 30s, sys: 22 s, total: 2min 52s\n",
      "Wall time: 1min 40s\n"
     ]
    }
   ],
   "source": [
    "vdproc = VideoProcessor(processor, config)\n",
    "\n",
    "def process_image(image):\n",
    "    frame = Image(img=image)\n",
    "    result = vdproc.process(frame, False)\n",
    "    return result\n",
    "\n",
    "vid_out = '/tmp/{}'.format(fname)\n",
    "out_clip = vid_clip.fl_image(process_image) #NOTE: this function expects color images!!\n",
    "%time out_clip.write_videofile(vid_out, audio=False)"
   ]
  },
  {
   "cell_type": "code",
   "execution_count": 10,
   "metadata": {
    "collapsed": false
   },
   "outputs": [
    {
     "data": {
      "text/plain": [
       "1261"
      ]
     },
     "execution_count": 10,
     "metadata": {},
     "output_type": "execute_result"
    }
   ],
   "source": [
    "vdproc.frame_count"
   ]
  },
  {
   "cell_type": "code",
   "execution_count": 11,
   "metadata": {
    "collapsed": true
   },
   "outputs": [],
   "source": [
    "schema = ['frame', '#leftX', '#leftY', '#rightX', '#rightY',\n",
    "          'leftCurverad', 'rightCurverad', 'meanLaneWidth', 'turnDir']\n",
    "def dump_stats(stats, fname):\n",
    "    fhndl = open(fname, 'w')\n",
    "    fhndl.write('{}\\n'.format(','.join(schema)))\n",
    "    for record in stats:\n",
    "        fhndl.write('{}\\n'.format(','.join(record)))\n",
    "    fhndl.close()"
   ]
  },
  {
   "cell_type": "code",
   "execution_count": 12,
   "metadata": {
    "collapsed": true
   },
   "outputs": [],
   "source": [
    "dump_stats(vdproc.stats, '/tmp/haha.csv')"
   ]
  },
  {
   "cell_type": "code",
   "execution_count": null,
   "metadata": {
    "collapsed": true
   },
   "outputs": [],
   "source": []
  }
 ],
 "metadata": {
  "kernelspec": {
   "display_name": "Python 3",
   "language": "python",
   "name": "python3"
  },
  "language_info": {
   "codemirror_mode": {
    "name": "ipython",
    "version": 3
   },
   "file_extension": ".py",
   "mimetype": "text/x-python",
   "name": "python",
   "nbconvert_exporter": "python",
   "pygments_lexer": "ipython3",
   "version": "3.5.2"
  }
 },
 "nbformat": 4,
 "nbformat_minor": 1
}
